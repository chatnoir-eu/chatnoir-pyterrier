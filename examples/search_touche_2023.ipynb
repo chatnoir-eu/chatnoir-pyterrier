{
 "cells": [
  {
   "cell_type": "markdown",
   "source": [
    "# Using ChatNoir in PyTerrier experiments for Touché 2023\n",
    "The [ChatNoir](https://chatnoir.eu/) search engine is a low-barrier way to search the ClueWeb22 used in the Touché 2023 tasks 1 and 2.\n",
    "Using its search API via the [`chatnoir-pyterrier`](https://pypi.org/project/chatnoir-pyterrier/) Python package,\n",
    "we can retrieve documents from the ClueWeb22 without the hassle of indexing this large corpus.\n",
    "The retrieved documents can then be re-ranked in PyTerrier experiments."
   ],
   "metadata": {
    "collapsed": false
   }
  },
  {
   "cell_type": "markdown",
   "source": [
    "## Configuration\n",
    "To access the ChatNoir API, we need an API key. Refer to the shared task instructions about how to get a key: [task 1](https://touche.webis.de/clef23/touche23-web/argument-retrieval-for-controversial-questions.html#data), [task 2](https://touche.webis.de/clef23/touche23-web/evidence-retrieval-for-causal-questions.html#data)"
   ],
   "metadata": {
    "collapsed": false
   }
  },
  {
   "cell_type": "code",
   "execution_count": 1,
   "outputs": [],
   "source": [
    "from os import environ\n",
    "\n",
    "api_key: str = environ[\"CHATNOIR_API_KEY_STAGING\"] or input(\"ChatNoir API key: \")"
   ],
   "metadata": {
    "collapsed": false
   }
  },
  {
   "cell_type": "markdown",
   "source": [
    "## Setup"
   ],
   "metadata": {
    "collapsed": false
   }
  },
  {
   "cell_type": "markdown",
   "source": [
    "Install Python packages if run in Google Colab."
   ],
   "metadata": {
    "collapsed": false
   }
  },
  {
   "cell_type": "code",
   "execution_count": 2,
   "outputs": [],
   "source": [
    "from sys import modules\n",
    "\n",
    "if \"google.colab\" in modules:\n",
    "    !pip install -q chatnoir-pyterrier python-terrier"
   ],
   "metadata": {
    "collapsed": false
   }
  },
  {
   "cell_type": "markdown",
   "source": [
    "Initialize PyTerrier."
   ],
   "metadata": {
    "collapsed": false
   }
  },
  {
   "cell_type": "code",
   "execution_count": 3,
   "outputs": [],
   "source": [
    "from pyterrier import init, started"
   ],
   "metadata": {
    "collapsed": false
   }
  },
  {
   "cell_type": "code",
   "execution_count": 4,
   "outputs": [
    {
     "name": "stderr",
     "output_type": "stream",
     "text": [
      "PyTerrier 0.8.1 has loaded Terrier 5.7 (built by craigm on 2022-11-10 18:30)\n",
      "\n",
      "No etc/terrier.properties, using terrier.default.properties for bootstrap configuration.\n"
     ]
    }
   ],
   "source": [
    "if not started():\n",
    "    init()"
   ],
   "metadata": {
    "collapsed": false
   }
  },
  {
   "cell_type": "markdown",
   "source": [
    "## Retrieval pipeline\n",
    "We can now create a retrieval pipeline which retrieves results from [ChatNoir](https://chatnoir.eu/).\n",
    "Create a `ChatNoirRetrieve` transformer by specifying the ChatNoir API key and the ClueWeb22 index.\n",
    "We also need to specify `staging=True` to use the new ChatNoir API endpoint.\n",
    "You can then use the pipeline in the same way as `BatchRetrieve`.\n",
    "(We [cache](https://pyterrier.readthedocs.io/en/latest/operators.html#caching) the transformer results with `~`.)"
   ],
   "metadata": {
    "collapsed": false
   }
  },
  {
   "cell_type": "code",
   "execution_count": 5,
   "outputs": [],
   "source": [
    "from chatnoir_api import Index\n",
    "from chatnoir_pyterrier import ChatNoirRetrieve\n",
    "\n",
    "chatnoir_cw22 = ~ChatNoirRetrieve(api_key, index=Index.ClueWeb22, staging=True, verbose=True)"
   ],
   "metadata": {
    "collapsed": false
   }
  },
  {
   "cell_type": "markdown",
   "source": [
    "### Search\n",
    "For example, we can search the ClueWeb22 for documents about `Should teachers get tenure?`:"
   ],
   "metadata": {
    "collapsed": false
   }
  },
  {
   "cell_type": "code",
   "execution_count": 6,
   "outputs": [
    {
     "data": {
      "text/plain": "  qid                        query                      docno      score  rank\n0   1  Should teachers get tenure?  clueweb22-en0025-93-13509  991.88544     0\n1   1  Should teachers get tenure?  clueweb22-en0036-51-07886  936.34766     1\n2   1  Should teachers get tenure?  clueweb22-en0015-48-14028  913.69135     2\n3   1  Should teachers get tenure?  clueweb22-en0036-42-12597  888.05290     3\n4   1  Should teachers get tenure?  clueweb22-en0004-78-02266  860.62850     4\n5   1  Should teachers get tenure?  clueweb22-en0015-58-14204  842.56354     5\n6   1  Should teachers get tenure?  clueweb22-en0026-20-11412  746.53050     6\n7   1  Should teachers get tenure?  clueweb22-en0004-85-12389  712.43110     7\n8   1  Should teachers get tenure?  clueweb22-en0005-10-14876  666.52340     8\n9   1  Should teachers get tenure?  clueweb22-en0004-53-06277  662.63100     9",
      "text/html": "<div>\n<style scoped>\n    .dataframe tbody tr th:only-of-type {\n        vertical-align: middle;\n    }\n\n    .dataframe tbody tr th {\n        vertical-align: top;\n    }\n\n    .dataframe thead th {\n        text-align: right;\n    }\n</style>\n<table border=\"1\" class=\"dataframe\">\n  <thead>\n    <tr style=\"text-align: right;\">\n      <th></th>\n      <th>qid</th>\n      <th>query</th>\n      <th>docno</th>\n      <th>score</th>\n      <th>rank</th>\n    </tr>\n  </thead>\n  <tbody>\n    <tr>\n      <th>0</th>\n      <td>1</td>\n      <td>Should teachers get tenure?</td>\n      <td>clueweb22-en0025-93-13509</td>\n      <td>991.88544</td>\n      <td>0</td>\n    </tr>\n    <tr>\n      <th>1</th>\n      <td>1</td>\n      <td>Should teachers get tenure?</td>\n      <td>clueweb22-en0036-51-07886</td>\n      <td>936.34766</td>\n      <td>1</td>\n    </tr>\n    <tr>\n      <th>2</th>\n      <td>1</td>\n      <td>Should teachers get tenure?</td>\n      <td>clueweb22-en0015-48-14028</td>\n      <td>913.69135</td>\n      <td>2</td>\n    </tr>\n    <tr>\n      <th>3</th>\n      <td>1</td>\n      <td>Should teachers get tenure?</td>\n      <td>clueweb22-en0036-42-12597</td>\n      <td>888.05290</td>\n      <td>3</td>\n    </tr>\n    <tr>\n      <th>4</th>\n      <td>1</td>\n      <td>Should teachers get tenure?</td>\n      <td>clueweb22-en0004-78-02266</td>\n      <td>860.62850</td>\n      <td>4</td>\n    </tr>\n    <tr>\n      <th>5</th>\n      <td>1</td>\n      <td>Should teachers get tenure?</td>\n      <td>clueweb22-en0015-58-14204</td>\n      <td>842.56354</td>\n      <td>5</td>\n    </tr>\n    <tr>\n      <th>6</th>\n      <td>1</td>\n      <td>Should teachers get tenure?</td>\n      <td>clueweb22-en0026-20-11412</td>\n      <td>746.53050</td>\n      <td>6</td>\n    </tr>\n    <tr>\n      <th>7</th>\n      <td>1</td>\n      <td>Should teachers get tenure?</td>\n      <td>clueweb22-en0004-85-12389</td>\n      <td>712.43110</td>\n      <td>7</td>\n    </tr>\n    <tr>\n      <th>8</th>\n      <td>1</td>\n      <td>Should teachers get tenure?</td>\n      <td>clueweb22-en0005-10-14876</td>\n      <td>666.52340</td>\n      <td>8</td>\n    </tr>\n    <tr>\n      <th>9</th>\n      <td>1</td>\n      <td>Should teachers get tenure?</td>\n      <td>clueweb22-en0004-53-06277</td>\n      <td>662.63100</td>\n      <td>9</td>\n    </tr>\n  </tbody>\n</table>\n</div>"
     },
     "execution_count": 6,
     "metadata": {},
     "output_type": "execute_result"
    }
   ],
   "source": [
    "chatnoir_cw22.search(\"Should teachers get tenure?\")"
   ],
   "metadata": {
    "collapsed": false
   }
  },
  {
   "cell_type": "markdown",
   "source": [
    "### Run\n",
    "We can also use the pipeline to create a run for the task's topics.\n",
    "First, we need to download each task topics, then we can read them as a Pandas data frame."
   ],
   "metadata": {
    "collapsed": false
   }
  },
  {
   "cell_type": "code",
   "execution_count": 7,
   "outputs": [],
   "source": [
    "from requests import get\n",
    "from pandas import DataFrame, read_xml\n",
    "from pathlib import Path\n",
    "\n",
    "\n",
    "def download_read_topics(url: str, path: Path) -> DataFrame:\n",
    "    if not path.exists():\n",
    "        with path.open(\"wb\") as file:\n",
    "            file.write(get(url).content)\n",
    "    return read_xml(path).rename(columns={\"number\": \"qid\", \"title\": \"query\"}).drop(columns=[\"description\", \"narrative\"])"
   ],
   "metadata": {
    "collapsed": false
   }
  },
  {
   "cell_type": "code",
   "execution_count": 8,
   "outputs": [],
   "source": [
    "topics_task_1 = download_read_topics(\n",
    "    \"https://touche.webis.de/clef23/touche23-data/topics-task1.xml\",\n",
    "    Path(\"topics_task_1.xml\")\n",
    ")\n",
    "topics_task_2 = download_read_topics(\n",
    "    \"https://touche.webis.de/clef23/touche23-data/topics-task2.xml\",\n",
    "    Path(\"topics_task_2.xml\")\n",
    ")"
   ],
   "metadata": {
    "collapsed": false
   }
  },
  {
   "cell_type": "markdown",
   "source": [
    "Now that we have loaded the topic, let's retrieve documents using ChatNoir."
   ],
   "metadata": {
    "collapsed": false
   }
  },
  {
   "cell_type": "code",
   "execution_count": 9,
   "outputs": [
    {
     "name": "stderr",
     "output_type": "stream",
     "text": [
      "Searching with ChatNoir: 100%|██████████| 49/49 [01:32<00:00,  1.88s/query]\n"
     ]
    },
    {
     "data": {
      "text/plain": "    qid                                          query  \\\n0     1                    Should teachers get tenure?   \n1     1                    Should teachers get tenure?   \n2     1                    Should teachers get tenure?   \n3     1                    Should teachers get tenure?   \n4     1                    Should teachers get tenure?   \n..   ..                                            ...   \n485  50  Should everyone get a universal basic income?   \n486  50  Should everyone get a universal basic income?   \n487  50  Should everyone get a universal basic income?   \n488  50  Should everyone get a universal basic income?   \n489  50  Should everyone get a universal basic income?   \n\n                         docno       score  rank  \n0    clueweb22-en0025-93-13509   991.88544     0  \n1    clueweb22-en0036-51-07886   936.34766     1  \n2    clueweb22-en0015-48-14028   913.69135     2  \n3    clueweb22-en0036-42-12597   888.05290     3  \n4    clueweb22-en0004-78-02266   860.62850     4  \n..                         ...         ...   ...  \n485  clueweb22-en0015-43-17323  1581.37950     5  \n486  clueweb22-en0004-57-11769  1553.41990     6  \n487  clueweb22-en0004-76-15969  1498.98200     7  \n488  clueweb22-en0004-84-12737  1425.22380     8  \n489  clueweb22-en0004-89-03210  1383.54690     9  \n\n[500 rows x 5 columns]",
      "text/html": "<div>\n<style scoped>\n    .dataframe tbody tr th:only-of-type {\n        vertical-align: middle;\n    }\n\n    .dataframe tbody tr th {\n        vertical-align: top;\n    }\n\n    .dataframe thead th {\n        text-align: right;\n    }\n</style>\n<table border=\"1\" class=\"dataframe\">\n  <thead>\n    <tr style=\"text-align: right;\">\n      <th></th>\n      <th>qid</th>\n      <th>query</th>\n      <th>docno</th>\n      <th>score</th>\n      <th>rank</th>\n    </tr>\n  </thead>\n  <tbody>\n    <tr>\n      <th>0</th>\n      <td>1</td>\n      <td>Should teachers get tenure?</td>\n      <td>clueweb22-en0025-93-13509</td>\n      <td>991.88544</td>\n      <td>0</td>\n    </tr>\n    <tr>\n      <th>1</th>\n      <td>1</td>\n      <td>Should teachers get tenure?</td>\n      <td>clueweb22-en0036-51-07886</td>\n      <td>936.34766</td>\n      <td>1</td>\n    </tr>\n    <tr>\n      <th>2</th>\n      <td>1</td>\n      <td>Should teachers get tenure?</td>\n      <td>clueweb22-en0015-48-14028</td>\n      <td>913.69135</td>\n      <td>2</td>\n    </tr>\n    <tr>\n      <th>3</th>\n      <td>1</td>\n      <td>Should teachers get tenure?</td>\n      <td>clueweb22-en0036-42-12597</td>\n      <td>888.05290</td>\n      <td>3</td>\n    </tr>\n    <tr>\n      <th>4</th>\n      <td>1</td>\n      <td>Should teachers get tenure?</td>\n      <td>clueweb22-en0004-78-02266</td>\n      <td>860.62850</td>\n      <td>4</td>\n    </tr>\n    <tr>\n      <th>...</th>\n      <td>...</td>\n      <td>...</td>\n      <td>...</td>\n      <td>...</td>\n      <td>...</td>\n    </tr>\n    <tr>\n      <th>485</th>\n      <td>50</td>\n      <td>Should everyone get a universal basic income?</td>\n      <td>clueweb22-en0015-43-17323</td>\n      <td>1581.37950</td>\n      <td>5</td>\n    </tr>\n    <tr>\n      <th>486</th>\n      <td>50</td>\n      <td>Should everyone get a universal basic income?</td>\n      <td>clueweb22-en0004-57-11769</td>\n      <td>1553.41990</td>\n      <td>6</td>\n    </tr>\n    <tr>\n      <th>487</th>\n      <td>50</td>\n      <td>Should everyone get a universal basic income?</td>\n      <td>clueweb22-en0004-76-15969</td>\n      <td>1498.98200</td>\n      <td>7</td>\n    </tr>\n    <tr>\n      <th>488</th>\n      <td>50</td>\n      <td>Should everyone get a universal basic income?</td>\n      <td>clueweb22-en0004-84-12737</td>\n      <td>1425.22380</td>\n      <td>8</td>\n    </tr>\n    <tr>\n      <th>489</th>\n      <td>50</td>\n      <td>Should everyone get a universal basic income?</td>\n      <td>clueweb22-en0004-89-03210</td>\n      <td>1383.54690</td>\n      <td>9</td>\n    </tr>\n  </tbody>\n</table>\n<p>500 rows × 5 columns</p>\n</div>"
     },
     "execution_count": 9,
     "metadata": {},
     "output_type": "execute_result"
    }
   ],
   "source": [
    "chatnoir_cw22.transform(topics_task_1)"
   ],
   "metadata": {
    "collapsed": false
   }
  },
  {
   "cell_type": "code",
   "execution_count": 10,
   "outputs": [
    {
     "name": "stderr",
     "output_type": "stream",
     "text": [
      "Searching with ChatNoir: 100%|██████████| 49/49 [01:33<00:00,  1.92s/query]\n"
     ]
    },
    {
     "data": {
      "text/plain": "    qid                                      query                      docno  \\\n0     1                Should teachers get tenure?  clueweb22-en0025-93-13509   \n1     1                Should teachers get tenure?  clueweb22-en0036-51-07886   \n2     1                Should teachers get tenure?  clueweb22-en0015-48-14028   \n3     1                Should teachers get tenure?  clueweb22-en0036-42-12597   \n4     1                Should teachers get tenure?  clueweb22-en0004-78-02266   \n..   ..                                        ...                        ...   \n480  50  Can a financial crisis cause a recession?  clueweb22-en0036-46-11071   \n481  50  Can a financial crisis cause a recession?  clueweb22-en0036-01-09621   \n482  50  Can a financial crisis cause a recession?  clueweb22-en0036-03-11741   \n483  50  Can a financial crisis cause a recession?  clueweb22-en0015-17-10323   \n484  50  Can a financial crisis cause a recession?  clueweb22-en0015-41-08986   \n\n          score  rank             cause     effect  \n0     991.88544     0               NaN        NaN  \n1     936.34766     1               NaN        NaN  \n2     913.69135     2               NaN        NaN  \n3     888.05290     3               NaN        NaN  \n4     860.62850     4               NaN        NaN  \n..          ...   ...               ...        ...  \n480  1423.33300     5  financial crisis  recession  \n481  1403.30240     6  financial crisis  recession  \n482  1393.15330     7  financial crisis  recession  \n483  1345.36710     8  financial crisis  recession  \n484  1326.98060     9  financial crisis  recession  \n\n[495 rows x 7 columns]",
      "text/html": "<div>\n<style scoped>\n    .dataframe tbody tr th:only-of-type {\n        vertical-align: middle;\n    }\n\n    .dataframe tbody tr th {\n        vertical-align: top;\n    }\n\n    .dataframe thead th {\n        text-align: right;\n    }\n</style>\n<table border=\"1\" class=\"dataframe\">\n  <thead>\n    <tr style=\"text-align: right;\">\n      <th></th>\n      <th>qid</th>\n      <th>query</th>\n      <th>docno</th>\n      <th>score</th>\n      <th>rank</th>\n      <th>cause</th>\n      <th>effect</th>\n    </tr>\n  </thead>\n  <tbody>\n    <tr>\n      <th>0</th>\n      <td>1</td>\n      <td>Should teachers get tenure?</td>\n      <td>clueweb22-en0025-93-13509</td>\n      <td>991.88544</td>\n      <td>0</td>\n      <td>NaN</td>\n      <td>NaN</td>\n    </tr>\n    <tr>\n      <th>1</th>\n      <td>1</td>\n      <td>Should teachers get tenure?</td>\n      <td>clueweb22-en0036-51-07886</td>\n      <td>936.34766</td>\n      <td>1</td>\n      <td>NaN</td>\n      <td>NaN</td>\n    </tr>\n    <tr>\n      <th>2</th>\n      <td>1</td>\n      <td>Should teachers get tenure?</td>\n      <td>clueweb22-en0015-48-14028</td>\n      <td>913.69135</td>\n      <td>2</td>\n      <td>NaN</td>\n      <td>NaN</td>\n    </tr>\n    <tr>\n      <th>3</th>\n      <td>1</td>\n      <td>Should teachers get tenure?</td>\n      <td>clueweb22-en0036-42-12597</td>\n      <td>888.05290</td>\n      <td>3</td>\n      <td>NaN</td>\n      <td>NaN</td>\n    </tr>\n    <tr>\n      <th>4</th>\n      <td>1</td>\n      <td>Should teachers get tenure?</td>\n      <td>clueweb22-en0004-78-02266</td>\n      <td>860.62850</td>\n      <td>4</td>\n      <td>NaN</td>\n      <td>NaN</td>\n    </tr>\n    <tr>\n      <th>...</th>\n      <td>...</td>\n      <td>...</td>\n      <td>...</td>\n      <td>...</td>\n      <td>...</td>\n      <td>...</td>\n      <td>...</td>\n    </tr>\n    <tr>\n      <th>480</th>\n      <td>50</td>\n      <td>Can a financial crisis cause a recession?</td>\n      <td>clueweb22-en0036-46-11071</td>\n      <td>1423.33300</td>\n      <td>5</td>\n      <td>financial crisis</td>\n      <td>recession</td>\n    </tr>\n    <tr>\n      <th>481</th>\n      <td>50</td>\n      <td>Can a financial crisis cause a recession?</td>\n      <td>clueweb22-en0036-01-09621</td>\n      <td>1403.30240</td>\n      <td>6</td>\n      <td>financial crisis</td>\n      <td>recession</td>\n    </tr>\n    <tr>\n      <th>482</th>\n      <td>50</td>\n      <td>Can a financial crisis cause a recession?</td>\n      <td>clueweb22-en0036-03-11741</td>\n      <td>1393.15330</td>\n      <td>7</td>\n      <td>financial crisis</td>\n      <td>recession</td>\n    </tr>\n    <tr>\n      <th>483</th>\n      <td>50</td>\n      <td>Can a financial crisis cause a recession?</td>\n      <td>clueweb22-en0015-17-10323</td>\n      <td>1345.36710</td>\n      <td>8</td>\n      <td>financial crisis</td>\n      <td>recession</td>\n    </tr>\n    <tr>\n      <th>484</th>\n      <td>50</td>\n      <td>Can a financial crisis cause a recession?</td>\n      <td>clueweb22-en0015-41-08986</td>\n      <td>1326.98060</td>\n      <td>9</td>\n      <td>financial crisis</td>\n      <td>recession</td>\n    </tr>\n  </tbody>\n</table>\n<p>495 rows × 7 columns</p>\n</div>"
     },
     "execution_count": 10,
     "metadata": {},
     "output_type": "execute_result"
    }
   ],
   "source": [
    "chatnoir_cw22.transform(topics_task_2)"
   ],
   "metadata": {
    "collapsed": false
   }
  },
  {
   "cell_type": "markdown",
   "source": [
    "As you see, [ChatNoir](https://chatnoir.eu/) is an easy way to retrieve documents from the ClueWeb22.\n",
    "For your submission, you can integrate the `ChatNoirRetrieve` PyTerrier module as a first retrieval stage and then build your own re-ranking stages on top."
   ],
   "metadata": {
    "collapsed": false
   }
  },
  {
   "cell_type": "markdown",
   "source": [
    "## Features\n",
    "Many re-rankers need the document text or other features for re-ranking documents.\n",
    "Using `chatnoir-pyterrier`, you can select which features should be included in the result dataframe by selecting from `Feature` flags."
   ],
   "metadata": {
    "collapsed": false
   }
  },
  {
   "cell_type": "code",
   "execution_count": 11,
   "outputs": [
    {
     "name": "stderr",
     "output_type": "stream",
     "text": [
      "Searching with ChatNoir: 100%|██████████| 1/1 [00:10<00:00, 10.40s/query]\n"
     ]
    },
    {
     "data": {
      "text/plain": "  qid                        query                      docno      score  \\\n0   1  Should teachers get tenure?  clueweb22-en0025-93-13509  991.88544   \n1   1  Should teachers get tenure?  clueweb22-en0036-51-07886  949.35150   \n2   1  Should teachers get tenure?  clueweb22-en0015-48-14028  913.69135   \n3   1  Should teachers get tenure?  clueweb22-en0036-42-12597  888.05290   \n4   1  Should teachers get tenure?  clueweb22-en0004-78-02266  860.62850   \n5   1  Should teachers get tenure?  clueweb22-en0015-58-14204  842.56354   \n6   1  Should teachers get tenure?  clueweb22-en0004-85-12389  721.90936   \n7   1  Should teachers get tenure?  clueweb22-en0005-10-14876  671.91290   \n8   1  Should teachers get tenure?  clueweb22-en0004-53-06277  659.41640   \n9   1  Should teachers get tenure?  clueweb22-en0025-64-02249  655.50920   \n\n                                          title_text  \\\n0  Tenure track evaluation criteria | Aalto Unive...   \n1  Tenure in a Job: Definition, Advantages and Di...   \n2                  How to use \"tenure\" in a sentence   \n3  Student Opinion | Should Students Be Able to G...   \n4  Can an Indian teacher get a job in Canada? - Q...   \n5  Susan Bunting reflects on tenure as Delaware e...   \n6  Chicago Mayor Lori Lightfoot slammed for 'disa...   \n7  Philosophy of Education Examples for Elementar...   \n8  How does a Filipino teacher compare with a tea...   \n9  Argumentative essay good and bad teachers Free...   \n\n                                          html_plain  rank  \n0  Tenure track evaluation criteria | Aalto Unive...     0  \n1  Tenure in a Job: Definition, Advantages and Di...     1  \n2  How to use \"tenure\" in a sentence\\nAppearance\\...     2  \n3  Should Students Be Able to Grade Their Teacher...     3  \n4  Can an Indian teacher get a job in Canada? - Q...     4  \n5  Susan Bunting reflects on tenure as Delaware e...     5  \n6  Chicago Mayor Lori Lightfoot slammed for 'disa...     6  \n7  How to Write a Philosophy of Education for Ele...     7  \n8  How does a Filipino teacher compare with a tea...     8  \n9  Argumentative essay good and bad teachers Free...     9  ",
      "text/html": "<div>\n<style scoped>\n    .dataframe tbody tr th:only-of-type {\n        vertical-align: middle;\n    }\n\n    .dataframe tbody tr th {\n        vertical-align: top;\n    }\n\n    .dataframe thead th {\n        text-align: right;\n    }\n</style>\n<table border=\"1\" class=\"dataframe\">\n  <thead>\n    <tr style=\"text-align: right;\">\n      <th></th>\n      <th>qid</th>\n      <th>query</th>\n      <th>docno</th>\n      <th>score</th>\n      <th>title_text</th>\n      <th>html_plain</th>\n      <th>rank</th>\n    </tr>\n  </thead>\n  <tbody>\n    <tr>\n      <th>0</th>\n      <td>1</td>\n      <td>Should teachers get tenure?</td>\n      <td>clueweb22-en0025-93-13509</td>\n      <td>991.88544</td>\n      <td>Tenure track evaluation criteria | Aalto Unive...</td>\n      <td>Tenure track evaluation criteria | Aalto Unive...</td>\n      <td>0</td>\n    </tr>\n    <tr>\n      <th>1</th>\n      <td>1</td>\n      <td>Should teachers get tenure?</td>\n      <td>clueweb22-en0036-51-07886</td>\n      <td>949.35150</td>\n      <td>Tenure in a Job: Definition, Advantages and Di...</td>\n      <td>Tenure in a Job: Definition, Advantages and Di...</td>\n      <td>1</td>\n    </tr>\n    <tr>\n      <th>2</th>\n      <td>1</td>\n      <td>Should teachers get tenure?</td>\n      <td>clueweb22-en0015-48-14028</td>\n      <td>913.69135</td>\n      <td>How to use \"tenure\" in a sentence</td>\n      <td>How to use \"tenure\" in a sentence\\nAppearance\\...</td>\n      <td>2</td>\n    </tr>\n    <tr>\n      <th>3</th>\n      <td>1</td>\n      <td>Should teachers get tenure?</td>\n      <td>clueweb22-en0036-42-12597</td>\n      <td>888.05290</td>\n      <td>Student Opinion | Should Students Be Able to G...</td>\n      <td>Should Students Be Able to Grade Their Teacher...</td>\n      <td>3</td>\n    </tr>\n    <tr>\n      <th>4</th>\n      <td>1</td>\n      <td>Should teachers get tenure?</td>\n      <td>clueweb22-en0004-78-02266</td>\n      <td>860.62850</td>\n      <td>Can an Indian teacher get a job in Canada? - Q...</td>\n      <td>Can an Indian teacher get a job in Canada? - Q...</td>\n      <td>4</td>\n    </tr>\n    <tr>\n      <th>5</th>\n      <td>1</td>\n      <td>Should teachers get tenure?</td>\n      <td>clueweb22-en0015-58-14204</td>\n      <td>842.56354</td>\n      <td>Susan Bunting reflects on tenure as Delaware e...</td>\n      <td>Susan Bunting reflects on tenure as Delaware e...</td>\n      <td>5</td>\n    </tr>\n    <tr>\n      <th>6</th>\n      <td>1</td>\n      <td>Should teachers get tenure?</td>\n      <td>clueweb22-en0004-85-12389</td>\n      <td>721.90936</td>\n      <td>Chicago Mayor Lori Lightfoot slammed for 'disa...</td>\n      <td>Chicago Mayor Lori Lightfoot slammed for 'disa...</td>\n      <td>6</td>\n    </tr>\n    <tr>\n      <th>7</th>\n      <td>1</td>\n      <td>Should teachers get tenure?</td>\n      <td>clueweb22-en0005-10-14876</td>\n      <td>671.91290</td>\n      <td>Philosophy of Education Examples for Elementar...</td>\n      <td>How to Write a Philosophy of Education for Ele...</td>\n      <td>7</td>\n    </tr>\n    <tr>\n      <th>8</th>\n      <td>1</td>\n      <td>Should teachers get tenure?</td>\n      <td>clueweb22-en0004-53-06277</td>\n      <td>659.41640</td>\n      <td>How does a Filipino teacher compare with a tea...</td>\n      <td>How does a Filipino teacher compare with a tea...</td>\n      <td>8</td>\n    </tr>\n    <tr>\n      <th>9</th>\n      <td>1</td>\n      <td>Should teachers get tenure?</td>\n      <td>clueweb22-en0025-64-02249</td>\n      <td>655.50920</td>\n      <td>Argumentative essay good and bad teachers Free...</td>\n      <td>Argumentative essay good and bad teachers Free...</td>\n      <td>9</td>\n    </tr>\n  </tbody>\n</table>\n</div>"
     },
     "execution_count": 11,
     "metadata": {},
     "output_type": "execute_result"
    }
   ],
   "source": [
    "from chatnoir_pyterrier.retrieve import ChatNoirRetrieve, Feature\n",
    "\n",
    "features = Feature.CONTENT_PLAIN | Feature.TITLE_TEXT  # plaintext and title\n",
    "chatnoir_all = ~ChatNoirRetrieve(api_key, index=Index.ClueWeb22, staging=True, features=features, verbose=True)\n",
    "chatnoir_all.search(\"Should teachers get tenure?\")"
   ],
   "metadata": {
    "collapsed": false
   }
  },
  {
   "cell_type": "code",
   "execution_count": 11,
   "outputs": [],
   "source": [],
   "metadata": {
    "collapsed": false
   }
  }
 ],
 "metadata": {
  "kernelspec": {
   "display_name": "Python 3",
   "language": "python",
   "name": "python3"
  },
  "language_info": {
   "codemirror_mode": {
    "name": "ipython",
    "version": 2
   },
   "file_extension": ".py",
   "mimetype": "text/x-python",
   "name": "python",
   "nbconvert_exporter": "python",
   "pygments_lexer": "ipython2",
   "version": "2.7.6"
  }
 },
 "nbformat": 4,
 "nbformat_minor": 0
}
