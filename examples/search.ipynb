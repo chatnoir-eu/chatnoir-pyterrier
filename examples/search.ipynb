{
 "cells": [
  {
   "cell_type": "markdown",
   "source": [
    "# Using ChatNoir in PyTerrier experiments\n",
    "The [ChatNoir](https://chatnoir.eu/) search engine is a low-barrier way to search the ClueWeb and CommonCrawl corpora.\n",
    "Using its search API via the [`chatnoir-pyterrier`](https://pypi.org/project/chatnoir-pyterrier/) Python package,\n",
    "we can integrate the ClueWeb and CommonCrawl into PyTerrier experiments without the hassle of indexing either of them.\n",
    "This facilitates research with these large web crawls for individuals and institutions without extensive hardware.\n",
    "\n",
    "(Note: `chatnoir-pyterrier` uses [`chatnoir-api`](https://pypi.org/project/chatnoir-api/) under the hood.)"
   ],
   "metadata": {
    "collapsed": false
   }
  },
  {
   "cell_type": "markdown",
   "source": [
    "## Configuration\n",
    "To access the ChatNoir API, we need an API key. Refer to the [API documentation](https://chatnoir.eu/doc/api/) about how to get a key."
   ],
   "metadata": {
    "collapsed": false
   }
  },
  {
   "cell_type": "code",
   "execution_count": 9,
   "outputs": [],
   "source": [
    "from os import environ\n",
    "\n",
    "api_key: str = environ[\"CHATNOIR_API_KEY\"] or input(\"ChatNoir API key: \")"
   ],
   "metadata": {
    "collapsed": false
   }
  },
  {
   "cell_type": "markdown",
   "source": [
    "## Setup"
   ],
   "metadata": {
    "collapsed": false
   }
  },
  {
   "cell_type": "markdown",
   "source": [
    "Install Python packages if run in Google Colab."
   ],
   "metadata": {
    "collapsed": false
   }
  },
  {
   "cell_type": "code",
   "execution_count": 10,
   "outputs": [],
   "source": [
    "from sys import modules\n",
    "\n",
    "if \"google.colab\" in modules:\n",
    "    !pip install -q chatnoir-pyterrier python-terrier"
   ],
   "metadata": {
    "collapsed": false
   }
  },
  {
   "cell_type": "markdown",
   "source": [
    "Initialize PyTerrier."
   ],
   "metadata": {
    "collapsed": false
   }
  },
  {
   "cell_type": "code",
   "execution_count": 11,
   "outputs": [],
   "source": [
    "from pyterrier import init, started"
   ],
   "metadata": {
    "collapsed": false
   }
  },
  {
   "cell_type": "code",
   "execution_count": 12,
   "outputs": [],
   "source": [
    "if not started():\n",
    "    init()"
   ],
   "metadata": {
    "collapsed": false
   }
  },
  {
   "cell_type": "markdown",
   "source": [
    "## Retrieval pipeline\n",
    "We can now create a retrieval pipeline which retrieves results from [ChatNoir](https://chatnoir.eu/).\n",
    "Create a `ChatNoirRetrieve` transformer by specifying the ChatNoir API key and (optionally) some index.\n",
    "You can then use the pipeline in the same way as `BatchRetrieve`.\n",
    "(We [cache](https://pyterrier.readthedocs.io/en/latest/operators.html#caching) the transformer results with `~`.)"
   ],
   "metadata": {
    "collapsed": false
   }
  },
  {
   "cell_type": "code",
   "execution_count": 13,
   "outputs": [],
   "source": [
    "from chatnoir_api import Index\n",
    "from chatnoir_pyterrier import ChatNoirRetrieve\n",
    "\n",
    "chatnoir_cw12 = ~ChatNoirRetrieve(api_key, index=Index.ClueWeb12, verbose=True)"
   ],
   "metadata": {
    "collapsed": false
   }
  },
  {
   "cell_type": "markdown",
   "source": [
    "### Search\n",
    "For example, we can search the ClueWeb12 for documents containing `python library`:"
   ],
   "metadata": {
    "collapsed": false
   }
  },
  {
   "cell_type": "code",
   "execution_count": 14,
   "outputs": [
    {
     "data": {
      "text/plain": "  qid           query                      docno      score  rank\n0   1  python library  clueweb12-0006wb-18-00118  1877.7197     0\n1   1  python library  clueweb12-0005wb-80-08722  1815.3436     1\n2   1  python library  clueweb12-0205wb-47-30303  1807.1592     2\n3   1  python library  clueweb12-0205wb-63-17912  1805.4083     3\n5   1  python library  clueweb12-0208wb-28-20755  1786.6001     4\n6   1  python library  clueweb12-0205wb-25-32436  1785.1276     5\n7   1  python library  clueweb12-0000wb-90-02108  1770.4622     6\n8   1  python library  clueweb12-0408wb-59-14855  1767.0771     7\n4   1  python library  clueweb12-0205wb-76-11362  1726.3470     8\n9   1  python library  clueweb12-0807wb-91-00930  1726.0011     9",
      "text/html": "<div>\n<style scoped>\n    .dataframe tbody tr th:only-of-type {\n        vertical-align: middle;\n    }\n\n    .dataframe tbody tr th {\n        vertical-align: top;\n    }\n\n    .dataframe thead th {\n        text-align: right;\n    }\n</style>\n<table border=\"1\" class=\"dataframe\">\n  <thead>\n    <tr style=\"text-align: right;\">\n      <th></th>\n      <th>qid</th>\n      <th>query</th>\n      <th>docno</th>\n      <th>score</th>\n      <th>rank</th>\n    </tr>\n  </thead>\n  <tbody>\n    <tr>\n      <th>0</th>\n      <td>1</td>\n      <td>python library</td>\n      <td>clueweb12-0006wb-18-00118</td>\n      <td>1877.7197</td>\n      <td>0</td>\n    </tr>\n    <tr>\n      <th>1</th>\n      <td>1</td>\n      <td>python library</td>\n      <td>clueweb12-0005wb-80-08722</td>\n      <td>1815.3436</td>\n      <td>1</td>\n    </tr>\n    <tr>\n      <th>2</th>\n      <td>1</td>\n      <td>python library</td>\n      <td>clueweb12-0205wb-47-30303</td>\n      <td>1807.1592</td>\n      <td>2</td>\n    </tr>\n    <tr>\n      <th>3</th>\n      <td>1</td>\n      <td>python library</td>\n      <td>clueweb12-0205wb-63-17912</td>\n      <td>1805.4083</td>\n      <td>3</td>\n    </tr>\n    <tr>\n      <th>5</th>\n      <td>1</td>\n      <td>python library</td>\n      <td>clueweb12-0208wb-28-20755</td>\n      <td>1786.6001</td>\n      <td>4</td>\n    </tr>\n    <tr>\n      <th>6</th>\n      <td>1</td>\n      <td>python library</td>\n      <td>clueweb12-0205wb-25-32436</td>\n      <td>1785.1276</td>\n      <td>5</td>\n    </tr>\n    <tr>\n      <th>7</th>\n      <td>1</td>\n      <td>python library</td>\n      <td>clueweb12-0000wb-90-02108</td>\n      <td>1770.4622</td>\n      <td>6</td>\n    </tr>\n    <tr>\n      <th>8</th>\n      <td>1</td>\n      <td>python library</td>\n      <td>clueweb12-0408wb-59-14855</td>\n      <td>1767.0771</td>\n      <td>7</td>\n    </tr>\n    <tr>\n      <th>4</th>\n      <td>1</td>\n      <td>python library</td>\n      <td>clueweb12-0205wb-76-11362</td>\n      <td>1726.3470</td>\n      <td>8</td>\n    </tr>\n    <tr>\n      <th>9</th>\n      <td>1</td>\n      <td>python library</td>\n      <td>clueweb12-0807wb-91-00930</td>\n      <td>1726.0011</td>\n      <td>9</td>\n    </tr>\n  </tbody>\n</table>\n</div>"
     },
     "execution_count": 14,
     "metadata": {},
     "output_type": "execute_result"
    }
   ],
   "source": [
    "chatnoir_cw12.search(\"python library\")"
   ],
   "metadata": {
    "collapsed": false
   }
  },
  {
   "cell_type": "markdown",
   "source": [
    "### Evaluation\n",
    "We can also use the pipeline in a PyTerrier `Experiment` (and compare it to other retrieval pipelines).\n",
    "First, we need to download the test topics, for example from the TREC Web Track 2014.\n",
    "(Refer to the [PyTerrier documentation](https://pyterrier.readthedocs.io/en/latest/datasets.html#examples) for more detailed guides.)"
   ],
   "metadata": {
    "collapsed": false
   }
  },
  {
   "cell_type": "code",
   "execution_count": 15,
   "outputs": [
    {
     "name": "stderr",
     "output_type": "stream",
     "text": [
      "/home/heinrich/Repositories/chatnoir-pyterrier/venv/lib/python3.9/site-packages/pyterrier/datasets.py:435: FutureWarning: In a future version of pandas all arguments of DataFrame.drop except for the argument 'labels' will be keyword-only.\n",
      "  df.drop(df.columns.difference(['qid','query']), 1, inplace=True)\n"
     ]
    }
   ],
   "source": [
    "from pandas import DataFrame\n",
    "from pyterrier.datasets import Dataset, get_dataset\n",
    "\n",
    "dataset: Dataset = get_dataset(\"irds:clueweb12/trec-web-2014\")\n",
    "topics: DataFrame = dataset.get_topics(variant=\"query\").iloc[:5]"
   ],
   "metadata": {
    "collapsed": false
   }
  },
  {
   "cell_type": "markdown",
   "source": [
    "Now we can, for example, retrieve documents for the TREC Web Track 2014 topics."
   ],
   "metadata": {
    "collapsed": false
   }
  },
  {
   "cell_type": "code",
   "execution_count": 16,
   "outputs": [
    {
     "name": "stderr",
     "output_type": "stream",
     "text": [
      "Searching with ChatNoir: 100%|██████████| 5/5 [00:43<00:00,  8.77s/query]\n"
     ]
    },
    {
     "data": {
      "text/plain": "    qid                     query                      docno      score  rank\n0   251  identifying spider bites  clueweb12-1716wb-96-27852  1896.7426     0\n1   251  identifying spider bites  clueweb12-0006wb-33-07815  1876.0474     1\n3   251  identifying spider bites  clueweb12-0308wb-28-03934  1818.2316     2\n4   251  identifying spider bites  clueweb12-1804wb-20-18328  1682.8317     3\n2   251  identifying spider bites  clueweb12-0002wb-19-01278  1596.9993     4\n5   251  identifying spider bites  clueweb12-1115wb-68-00711  1563.0403     5\n6   251  identifying spider bites  clueweb12-0402wb-83-04996  1525.0618     6\n7   251  identifying spider bites  clueweb12-0302wb-47-23476  1524.2200     7\n8   251  identifying spider bites  clueweb12-0406wb-03-13094  1446.7344     8\n9   251  identifying spider bites  clueweb12-0205wb-09-31438  1270.8033     9\n10  252   history of orcas island  clueweb12-0911wb-12-05181  2267.2427     0\n11  252   history of orcas island  clueweb12-0302wb-83-05876  2121.4970     1\n12  252   history of orcas island  clueweb12-0713wb-77-24557  1953.6577     2\n13  252   history of orcas island  clueweb12-0713wb-63-28106  1940.9980     3\n14  252   history of orcas island  clueweb12-0714wb-82-22539  1927.9315     4\n15  252   history of orcas island  clueweb12-0710wb-97-10735  1896.9365     5\n16  252   history of orcas island  clueweb12-0709wb-53-21037  1877.2443     6\n17  252   history of orcas island  clueweb12-0710wb-02-08288  1853.8027     7\n18  252   history of orcas island  clueweb12-0210wb-83-27232  1839.5220     8\n19  252   history of orcas island  clueweb12-0104wb-66-21024  1823.6997     9\n20  253             tooth abscess  clueweb12-0405wb-92-21058  3041.9768     0\n21  253             tooth abscess  clueweb12-1906wb-79-15571  3036.3223     1\n22  253             tooth abscess  clueweb12-0005wb-17-11685  3034.5790     2\n23  253             tooth abscess  clueweb12-0411wb-13-24286  3017.7358     3\n24  253             tooth abscess  clueweb12-1216wb-77-33880  3014.9226     4\n25  253             tooth abscess  clueweb12-0602wb-15-18498  2954.4030     5\n26  253             tooth abscess  clueweb12-1600wb-32-12121  2902.3499     6\n27  253             tooth abscess  clueweb12-1403wb-16-02725  2887.3608     7\n28  253             tooth abscess  clueweb12-0504wb-38-29046  2817.7734     8\n29  253             tooth abscess  clueweb12-1716wb-15-11938  2805.6968     9\n30  254       barrett s esophagus  clueweb12-0906wb-11-12879  3422.6191     0\n31  254       barrett s esophagus  clueweb12-0918wb-43-20583  3141.6558     1\n32  254       barrett s esophagus  clueweb12-0918wb-43-20581  3060.1685     2\n33  254       barrett s esophagus  clueweb12-0401wb-71-13667  2820.2441     3\n34  254       barrett s esophagus  clueweb12-0401wb-73-24231  2664.3093     4\n35  254       barrett s esophagus  clueweb12-0401wb-52-19569  2658.8535     5\n36  254       barrett s esophagus  clueweb12-0100wb-02-07629  2656.9844     6\n37  254       barrett s esophagus  clueweb12-0013wb-64-17841  2648.4424     7\n38  254       barrett s esophagus  clueweb12-1204wb-51-23381  2643.7883     8\n39  254       barrett s esophagus  clueweb12-0311wb-46-17388  2636.6090     9\n40  255               teddy bears  clueweb12-1004wb-58-15473  2550.3510     0\n41  255               teddy bears  clueweb12-0917wb-64-01127  2550.3025     1\n42  255               teddy bears  clueweb12-1003wb-97-09656  2546.5627     2\n45  255               teddy bears  clueweb12-0409wb-75-02601  2543.2324     3\n46  255               teddy bears  clueweb12-1210wb-87-17200  2539.6367     4\n43  255               teddy bears  clueweb12-0917wb-64-01139  2537.2314     5\n44  255               teddy bears  clueweb12-1001wb-43-24116  2531.3580     6\n48  255               teddy bears  clueweb12-0500wb-56-07810  2527.2222     7\n47  255               teddy bears  clueweb12-1208wb-10-02152  2519.3386     8\n49  255               teddy bears  clueweb12-0704wb-08-18271  2511.6240     9",
      "text/html": "<div>\n<style scoped>\n    .dataframe tbody tr th:only-of-type {\n        vertical-align: middle;\n    }\n\n    .dataframe tbody tr th {\n        vertical-align: top;\n    }\n\n    .dataframe thead th {\n        text-align: right;\n    }\n</style>\n<table border=\"1\" class=\"dataframe\">\n  <thead>\n    <tr style=\"text-align: right;\">\n      <th></th>\n      <th>qid</th>\n      <th>query</th>\n      <th>docno</th>\n      <th>score</th>\n      <th>rank</th>\n    </tr>\n  </thead>\n  <tbody>\n    <tr>\n      <th>0</th>\n      <td>251</td>\n      <td>identifying spider bites</td>\n      <td>clueweb12-1716wb-96-27852</td>\n      <td>1896.7426</td>\n      <td>0</td>\n    </tr>\n    <tr>\n      <th>1</th>\n      <td>251</td>\n      <td>identifying spider bites</td>\n      <td>clueweb12-0006wb-33-07815</td>\n      <td>1876.0474</td>\n      <td>1</td>\n    </tr>\n    <tr>\n      <th>3</th>\n      <td>251</td>\n      <td>identifying spider bites</td>\n      <td>clueweb12-0308wb-28-03934</td>\n      <td>1818.2316</td>\n      <td>2</td>\n    </tr>\n    <tr>\n      <th>4</th>\n      <td>251</td>\n      <td>identifying spider bites</td>\n      <td>clueweb12-1804wb-20-18328</td>\n      <td>1682.8317</td>\n      <td>3</td>\n    </tr>\n    <tr>\n      <th>2</th>\n      <td>251</td>\n      <td>identifying spider bites</td>\n      <td>clueweb12-0002wb-19-01278</td>\n      <td>1596.9993</td>\n      <td>4</td>\n    </tr>\n    <tr>\n      <th>5</th>\n      <td>251</td>\n      <td>identifying spider bites</td>\n      <td>clueweb12-1115wb-68-00711</td>\n      <td>1563.0403</td>\n      <td>5</td>\n    </tr>\n    <tr>\n      <th>6</th>\n      <td>251</td>\n      <td>identifying spider bites</td>\n      <td>clueweb12-0402wb-83-04996</td>\n      <td>1525.0618</td>\n      <td>6</td>\n    </tr>\n    <tr>\n      <th>7</th>\n      <td>251</td>\n      <td>identifying spider bites</td>\n      <td>clueweb12-0302wb-47-23476</td>\n      <td>1524.2200</td>\n      <td>7</td>\n    </tr>\n    <tr>\n      <th>8</th>\n      <td>251</td>\n      <td>identifying spider bites</td>\n      <td>clueweb12-0406wb-03-13094</td>\n      <td>1446.7344</td>\n      <td>8</td>\n    </tr>\n    <tr>\n      <th>9</th>\n      <td>251</td>\n      <td>identifying spider bites</td>\n      <td>clueweb12-0205wb-09-31438</td>\n      <td>1270.8033</td>\n      <td>9</td>\n    </tr>\n    <tr>\n      <th>10</th>\n      <td>252</td>\n      <td>history of orcas island</td>\n      <td>clueweb12-0911wb-12-05181</td>\n      <td>2267.2427</td>\n      <td>0</td>\n    </tr>\n    <tr>\n      <th>11</th>\n      <td>252</td>\n      <td>history of orcas island</td>\n      <td>clueweb12-0302wb-83-05876</td>\n      <td>2121.4970</td>\n      <td>1</td>\n    </tr>\n    <tr>\n      <th>12</th>\n      <td>252</td>\n      <td>history of orcas island</td>\n      <td>clueweb12-0713wb-77-24557</td>\n      <td>1953.6577</td>\n      <td>2</td>\n    </tr>\n    <tr>\n      <th>13</th>\n      <td>252</td>\n      <td>history of orcas island</td>\n      <td>clueweb12-0713wb-63-28106</td>\n      <td>1940.9980</td>\n      <td>3</td>\n    </tr>\n    <tr>\n      <th>14</th>\n      <td>252</td>\n      <td>history of orcas island</td>\n      <td>clueweb12-0714wb-82-22539</td>\n      <td>1927.9315</td>\n      <td>4</td>\n    </tr>\n    <tr>\n      <th>15</th>\n      <td>252</td>\n      <td>history of orcas island</td>\n      <td>clueweb12-0710wb-97-10735</td>\n      <td>1896.9365</td>\n      <td>5</td>\n    </tr>\n    <tr>\n      <th>16</th>\n      <td>252</td>\n      <td>history of orcas island</td>\n      <td>clueweb12-0709wb-53-21037</td>\n      <td>1877.2443</td>\n      <td>6</td>\n    </tr>\n    <tr>\n      <th>17</th>\n      <td>252</td>\n      <td>history of orcas island</td>\n      <td>clueweb12-0710wb-02-08288</td>\n      <td>1853.8027</td>\n      <td>7</td>\n    </tr>\n    <tr>\n      <th>18</th>\n      <td>252</td>\n      <td>history of orcas island</td>\n      <td>clueweb12-0210wb-83-27232</td>\n      <td>1839.5220</td>\n      <td>8</td>\n    </tr>\n    <tr>\n      <th>19</th>\n      <td>252</td>\n      <td>history of orcas island</td>\n      <td>clueweb12-0104wb-66-21024</td>\n      <td>1823.6997</td>\n      <td>9</td>\n    </tr>\n    <tr>\n      <th>20</th>\n      <td>253</td>\n      <td>tooth abscess</td>\n      <td>clueweb12-0405wb-92-21058</td>\n      <td>3041.9768</td>\n      <td>0</td>\n    </tr>\n    <tr>\n      <th>21</th>\n      <td>253</td>\n      <td>tooth abscess</td>\n      <td>clueweb12-1906wb-79-15571</td>\n      <td>3036.3223</td>\n      <td>1</td>\n    </tr>\n    <tr>\n      <th>22</th>\n      <td>253</td>\n      <td>tooth abscess</td>\n      <td>clueweb12-0005wb-17-11685</td>\n      <td>3034.5790</td>\n      <td>2</td>\n    </tr>\n    <tr>\n      <th>23</th>\n      <td>253</td>\n      <td>tooth abscess</td>\n      <td>clueweb12-0411wb-13-24286</td>\n      <td>3017.7358</td>\n      <td>3</td>\n    </tr>\n    <tr>\n      <th>24</th>\n      <td>253</td>\n      <td>tooth abscess</td>\n      <td>clueweb12-1216wb-77-33880</td>\n      <td>3014.9226</td>\n      <td>4</td>\n    </tr>\n    <tr>\n      <th>25</th>\n      <td>253</td>\n      <td>tooth abscess</td>\n      <td>clueweb12-0602wb-15-18498</td>\n      <td>2954.4030</td>\n      <td>5</td>\n    </tr>\n    <tr>\n      <th>26</th>\n      <td>253</td>\n      <td>tooth abscess</td>\n      <td>clueweb12-1600wb-32-12121</td>\n      <td>2902.3499</td>\n      <td>6</td>\n    </tr>\n    <tr>\n      <th>27</th>\n      <td>253</td>\n      <td>tooth abscess</td>\n      <td>clueweb12-1403wb-16-02725</td>\n      <td>2887.3608</td>\n      <td>7</td>\n    </tr>\n    <tr>\n      <th>28</th>\n      <td>253</td>\n      <td>tooth abscess</td>\n      <td>clueweb12-0504wb-38-29046</td>\n      <td>2817.7734</td>\n      <td>8</td>\n    </tr>\n    <tr>\n      <th>29</th>\n      <td>253</td>\n      <td>tooth abscess</td>\n      <td>clueweb12-1716wb-15-11938</td>\n      <td>2805.6968</td>\n      <td>9</td>\n    </tr>\n    <tr>\n      <th>30</th>\n      <td>254</td>\n      <td>barrett s esophagus</td>\n      <td>clueweb12-0906wb-11-12879</td>\n      <td>3422.6191</td>\n      <td>0</td>\n    </tr>\n    <tr>\n      <th>31</th>\n      <td>254</td>\n      <td>barrett s esophagus</td>\n      <td>clueweb12-0918wb-43-20583</td>\n      <td>3141.6558</td>\n      <td>1</td>\n    </tr>\n    <tr>\n      <th>32</th>\n      <td>254</td>\n      <td>barrett s esophagus</td>\n      <td>clueweb12-0918wb-43-20581</td>\n      <td>3060.1685</td>\n      <td>2</td>\n    </tr>\n    <tr>\n      <th>33</th>\n      <td>254</td>\n      <td>barrett s esophagus</td>\n      <td>clueweb12-0401wb-71-13667</td>\n      <td>2820.2441</td>\n      <td>3</td>\n    </tr>\n    <tr>\n      <th>34</th>\n      <td>254</td>\n      <td>barrett s esophagus</td>\n      <td>clueweb12-0401wb-73-24231</td>\n      <td>2664.3093</td>\n      <td>4</td>\n    </tr>\n    <tr>\n      <th>35</th>\n      <td>254</td>\n      <td>barrett s esophagus</td>\n      <td>clueweb12-0401wb-52-19569</td>\n      <td>2658.8535</td>\n      <td>5</td>\n    </tr>\n    <tr>\n      <th>36</th>\n      <td>254</td>\n      <td>barrett s esophagus</td>\n      <td>clueweb12-0100wb-02-07629</td>\n      <td>2656.9844</td>\n      <td>6</td>\n    </tr>\n    <tr>\n      <th>37</th>\n      <td>254</td>\n      <td>barrett s esophagus</td>\n      <td>clueweb12-0013wb-64-17841</td>\n      <td>2648.4424</td>\n      <td>7</td>\n    </tr>\n    <tr>\n      <th>38</th>\n      <td>254</td>\n      <td>barrett s esophagus</td>\n      <td>clueweb12-1204wb-51-23381</td>\n      <td>2643.7883</td>\n      <td>8</td>\n    </tr>\n    <tr>\n      <th>39</th>\n      <td>254</td>\n      <td>barrett s esophagus</td>\n      <td>clueweb12-0311wb-46-17388</td>\n      <td>2636.6090</td>\n      <td>9</td>\n    </tr>\n    <tr>\n      <th>40</th>\n      <td>255</td>\n      <td>teddy bears</td>\n      <td>clueweb12-1004wb-58-15473</td>\n      <td>2550.3510</td>\n      <td>0</td>\n    </tr>\n    <tr>\n      <th>41</th>\n      <td>255</td>\n      <td>teddy bears</td>\n      <td>clueweb12-0917wb-64-01127</td>\n      <td>2550.3025</td>\n      <td>1</td>\n    </tr>\n    <tr>\n      <th>42</th>\n      <td>255</td>\n      <td>teddy bears</td>\n      <td>clueweb12-1003wb-97-09656</td>\n      <td>2546.5627</td>\n      <td>2</td>\n    </tr>\n    <tr>\n      <th>45</th>\n      <td>255</td>\n      <td>teddy bears</td>\n      <td>clueweb12-0409wb-75-02601</td>\n      <td>2543.2324</td>\n      <td>3</td>\n    </tr>\n    <tr>\n      <th>46</th>\n      <td>255</td>\n      <td>teddy bears</td>\n      <td>clueweb12-1210wb-87-17200</td>\n      <td>2539.6367</td>\n      <td>4</td>\n    </tr>\n    <tr>\n      <th>43</th>\n      <td>255</td>\n      <td>teddy bears</td>\n      <td>clueweb12-0917wb-64-01139</td>\n      <td>2537.2314</td>\n      <td>5</td>\n    </tr>\n    <tr>\n      <th>44</th>\n      <td>255</td>\n      <td>teddy bears</td>\n      <td>clueweb12-1001wb-43-24116</td>\n      <td>2531.3580</td>\n      <td>6</td>\n    </tr>\n    <tr>\n      <th>48</th>\n      <td>255</td>\n      <td>teddy bears</td>\n      <td>clueweb12-0500wb-56-07810</td>\n      <td>2527.2222</td>\n      <td>7</td>\n    </tr>\n    <tr>\n      <th>47</th>\n      <td>255</td>\n      <td>teddy bears</td>\n      <td>clueweb12-1208wb-10-02152</td>\n      <td>2519.3386</td>\n      <td>8</td>\n    </tr>\n    <tr>\n      <th>49</th>\n      <td>255</td>\n      <td>teddy bears</td>\n      <td>clueweb12-0704wb-08-18271</td>\n      <td>2511.6240</td>\n      <td>9</td>\n    </tr>\n  </tbody>\n</table>\n</div>"
     },
     "execution_count": 16,
     "metadata": {},
     "output_type": "execute_result"
    }
   ],
   "source": [
    "chatnoir_cw12.transform(topics)"
   ],
   "metadata": {
    "collapsed": false
   }
  },
  {
   "cell_type": "markdown",
   "source": [
    "Alternatively, we could compare the results with ChatNoir's phrase search.\n",
    "Let's define the phrase search pipeline."
   ],
   "metadata": {
    "collapsed": false
   }
  },
  {
   "cell_type": "code",
   "execution_count": 17,
   "outputs": [],
   "source": [
    "from chatnoir_api import Index\n",
    "from chatnoir_pyterrier import ChatNoirRetrieve\n",
    "\n",
    "chatnoir_cw12_phrases = ~ChatNoirRetrieve(api_key, index=Index.ClueWeb12, phrases=True, verbose=True)"
   ],
   "metadata": {
    "collapsed": false
   }
  },
  {
   "cell_type": "code",
   "execution_count": 18,
   "outputs": [
    {
     "name": "stderr",
     "output_type": "stream",
     "text": [
      "Searching with ChatNoir: 100%|██████████| 5/5 [00:22<00:00,  4.54s/query]\n"
     ]
    },
    {
     "data": {
      "text/plain": "               name    nDCG@5        AP   RR\n0          ChatNoir  0.408398  0.022788  0.6\n1  ChatNoir phrases  0.212976  0.014764  0.6",
      "text/html": "<div>\n<style scoped>\n    .dataframe tbody tr th:only-of-type {\n        vertical-align: middle;\n    }\n\n    .dataframe tbody tr th {\n        vertical-align: top;\n    }\n\n    .dataframe thead th {\n        text-align: right;\n    }\n</style>\n<table border=\"1\" class=\"dataframe\">\n  <thead>\n    <tr style=\"text-align: right;\">\n      <th></th>\n      <th>name</th>\n      <th>nDCG@5</th>\n      <th>AP</th>\n      <th>RR</th>\n    </tr>\n  </thead>\n  <tbody>\n    <tr>\n      <th>0</th>\n      <td>ChatNoir</td>\n      <td>0.408398</td>\n      <td>0.022788</td>\n      <td>0.6</td>\n    </tr>\n    <tr>\n      <th>1</th>\n      <td>ChatNoir phrases</td>\n      <td>0.212976</td>\n      <td>0.014764</td>\n      <td>0.6</td>\n    </tr>\n  </tbody>\n</table>\n</div>"
     },
     "execution_count": 18,
     "metadata": {},
     "output_type": "execute_result"
    }
   ],
   "source": [
    "from ir_measures import nDCG, RR, MAP\n",
    "from pyterrier.pipelines import Experiment\n",
    "\n",
    "Experiment(\n",
    "    [chatnoir_cw12, chatnoir_cw12_phrases],\n",
    "    topics,\n",
    "    dataset.get_qrels(),\n",
    "    eval_metrics=[nDCG @ 5, MAP, RR],\n",
    "    names=[\"ChatNoir\", \"ChatNoir phrases\"],\n",
    ")"
   ],
   "metadata": {
    "collapsed": false
   }
  },
  {
   "cell_type": "markdown",
   "source": [
    "As you see, [ChatNoir](https://chatnoir.eu/) is a great way to experiment with the ClueWeb and CommonCrawl corpora!"
   ],
   "metadata": {
    "collapsed": false
   }
  },
  {
   "cell_type": "markdown",
   "source": [
    "## Features\n",
    "Of course, we can also put all [features](https://chatnoir.eu/doc/api/#response-data) that are returned by ChatNoir into the result dataframe.\n",
    "Choose the features you need with the `Feature` flags or select `Feature.ALL` if you want to include all features.\n",
    "Especially the `Feature.PAGE_RANK` and `Feature.SPAM_RANK` features might prove useful in subsequent reranking steps."
   ],
   "metadata": {
    "collapsed": false
   }
  },
  {
   "cell_type": "code",
   "execution_count": 19,
   "outputs": [
    {
     "name": "stderr",
     "output_type": "stream",
     "text": [
      "Searching with ChatNoir: 100%|██████████| 1/1 [00:16<00:00, 16.96s/query]\n"
     ]
    },
    {
     "data": {
      "text/plain": "  qid       query                      docno      score  \\\n0   1  dog breeds  clueweb12-0715wb-35-17002  2166.4966   \n4   1  dog breeds  clueweb09-en0113-70-25489  2166.1777   \n5   1  dog breeds  clueweb09-en0006-50-14388  2165.2537   \n1   1  dog breeds  clueweb12-0716wb-02-23645  2163.9990   \n6   1  dog breeds  clueweb12-0811wb-88-17480  2158.9507   \n2   1  dog breeds  clueweb12-0715wb-27-19537  2149.0513   \n3   1  dog breeds  clueweb12-0715wb-27-19536  2145.5340   \n7   1  dog breeds  clueweb12-0108wb-79-22919  2139.5435   \n8   1  dog breeds  clueweb09-en0021-15-33022  2136.5120   \n9   1  dog breeds  clueweb12-0704wb-43-30321  2130.2150   \n\n                                   uuid                    trec_id index  \\\n0  7b780514-5755-5f66-a9d8-ecdf1083e423  clueweb12-0715wb-35-17002  cw12   \n4  29b89e81-709e-58a7-9d51-d4ab9ebfe4c6  clueweb09-en0113-70-25489  cw09   \n5  57d5626a-dda7-5298-bb8a-8a944d3055ba  clueweb09-en0006-50-14388  cw09   \n1  8c7fb926-1e10-5835-9f50-a9d120c05db0  clueweb12-0716wb-02-23645  cw12   \n6  569790a2-eb2e-59ee-84cf-1887d195d294  clueweb12-0811wb-88-17480  cw12   \n2  92903ffc-3492-560c-84d7-30fd84b516ad  clueweb12-0715wb-27-19537  cw12   \n3  db7740db-64bc-58aa-b04f-aa14c4ca5934  clueweb12-0715wb-27-19536  cw12   \n7  f76e3e66-d517-55f7-80b8-f085ccbc56f2  clueweb12-0108wb-79-22919  cw12   \n8  3e65bb51-48c7-5c98-b24a-7c37476f42f9  clueweb09-en0021-15-33022  cw09   \n9  7354d3b9-a389-5c0e-a23a-63994fbab229  clueweb12-0704wb-43-30321  cw12   \n\n                target_hostname  \\\n0     www.yourpurebredpuppy.com   \n4           dog-breed-facts.com   \n5       www.dog-breed-facts.com   \n1     www.yourpurebredpuppy.com   \n6             puppies.about.com   \n2     www.yourpurebredpuppy.com   \n3     www.yourpurebredpuppy.com   \n7          www.dogandcollar.com   \n8  www.dogtrainingclassroom.com   \n9         www.training-dogs.com   \n\n                                          target_uri     page_rank  spam_rank  \\\n0  http://www.yourpurebredpuppy.com/dogbreeds/ind...  1.373495e-09         94   \n4  http://dog-breed-facts.com/articles/Breed-clas...  1.500000e-01         75   \n5  http://www.dog-breed-facts.com/articles/Breed-...  1.573170e-01         90   \n1  http://www.yourpurebredpuppy.com/dogbreeds/ind...  1.375767e-09         92   \n6  http://puppies.about.com/od/BestDogForMe/a/Dog...  1.315804e-09         91   \n2  http://www.yourpurebredpuppy.com/dogbreeds/ind...  1.371416e-09         91   \n3  http://www.yourpurebredpuppy.com/dogbreeds/ind...  1.370958e-09         91   \n7     http://www.dogandcollar.com/breed-profiles.htm  1.611213e-09         77   \n8  http://www.dogtrainingclassroom.com/dog-breeds...  3.276940e-01         78   \n9       http://www.training-dogs.com/dog-breeds.html  1.218488e-09         74   \n\n                                   title_highlighted  \\\n0  <em>Dog</em> <em>Breed</em> Reviews – Giant <e...   \n4  <em>dog</em> <em>breed</em> classification|<em...   \n5  <em>dog</em> <em>breed</em> classification|<em...   \n1  <em>Dog</em> <em>Breed</em> Reviews – Large <e...   \n6  <em>Dog</em> <em>Breeds</em> - What Is A <em>D...   \n2  <em>Dog</em> <em>Breed</em> Reviews – Small <e...   \n3  <em>Dog</em> <em>Breed</em> Reviews – Medium S...   \n7  <em>Dog</em> <em>Breed</em> Profiles, <em>Dog<...   \n8  <em>Dog</em> <em>Breeds</em> | <em>Dog</em> <e...   \n9                       <em>Dog</em> <em>breeds</em>   \n\n                                          title_text  \\\n0               Dog Breed Reviews – Giant Dog Breeds   \n4  dog breed classification|dog breed selector|sm...   \n5  dog breed classification|dog breed selector|sm...   \n1               Dog Breed Reviews – Large Dog Breeds   \n6                   Dog Breeds - What Is A Dog Breed   \n2               Dog Breed Reviews – Small Dog Breeds   \n3         Dog Breed Reviews – Medium Size Dog Breeds   \n7  Dog Breed Profiles, Dog Breed Origins, Small D...   \n8                        Dog Breeds | Dog Breed Info   \n9                                         Dog breeds   \n\n                                 snippet_highlighted  \\\n0  o 11 Things You Must Do Right To Keep Your <em...   \n4  Sighthounds have traits in common as do Terrie...   \n5  Sighthounds have traits in common as do Terrie...   \n1  o 11 Things You Must Do Right To Keep Your <em...   \n6  Purebred puppies are produced by breeding two ...   \n2  o 11 Things You Must Do Right To Keep Your <em...   \n3  I&#x27;m Michele Welton – <em>breed</em> selec...   \n7  Humans have selectively bred <em>dogs</em> for...   \n8  Listed below are useful <em>dog</em> <em>breed...   \n9  <em>Dog</em> <em>breeds</em>: There is so much...   \n\n                                        snippet_text  \\\n0  o 11 Things You Must Do Right To Keep Your Dog...   \n4  Sighthounds have traits in common as do Terrie...   \n5  Sighthounds have traits in common as do Terrie...   \n1  o 11 Things You Must Do Right To Keep Your Dog...   \n6  Purebred puppies are produced by breeding two ...   \n2  o 11 Things You Must Do Right To Keep Your Dog...   \n3  I'm Michele Welton – breed selection consultan...   \n7  Humans have selectively bred dogs for centurie...   \n8  Listed below are useful dog breed info on diff...   \n9  Dog breeds: There is so much variety! How do y...   \n\n                                         explanation  \\\n0  ExplanationResponse(value=2166.4968, descripti...   \n4  ExplanationResponse(value=2166.1777, descripti...   \n5  ExplanationResponse(value=2165.2537, descripti...   \n1  ExplanationResponse(value=2163.9993, descripti...   \n6  ExplanationResponse(value=2158.9507, descripti...   \n2  ExplanationResponse(value=2149.0513, descripti...   \n3  ExplanationResponse(value=2145.5337, descripti...   \n7  ExplanationResponse(value=2139.5435, descripti...   \n8  ExplanationResponse(value=2136.512, descriptio...   \n9  ExplanationResponse(value=2130.215, descriptio...   \n\n                                                html  \\\n0  <!doctype html>\\n<meta charset=\"utf-8\">\\n<titl...   \n4  <!doctype html>\\n<meta charset=\"utf-8\">\\n<titl...   \n5  <!doctype html>\\n<meta charset=\"utf-8\">\\n<titl...   \n1  <!doctype html>\\n<meta charset=\"utf-8\">\\n<titl...   \n6  <!doctype html>\\n<meta charset=\"utf-8\">\\n<titl...   \n2  <!doctype html>\\n<meta charset=\"utf-8\">\\n<titl...   \n3  <!doctype html>\\n<meta charset=\"utf-8\">\\n<titl...   \n7  <!doctype html>\\n<meta charset=\"utf-8\">\\n<titl...   \n8  <!doctype html>\\n<meta charset=\"utf-8\">\\n<titl...   \n9  <!doctype html>\\n<meta charset=\"utf-8\">\\n<titl...   \n\n                                          html_plain  rank  \n0  <!doctype html>\\n<meta charset=\"utf-8\">\\n<titl...     0  \n4  <!doctype html>\\n<meta charset=\"utf-8\">\\n<titl...     1  \n5  <!doctype html>\\n<meta charset=\"utf-8\">\\n<titl...     2  \n1  <!doctype html>\\n<meta charset=\"utf-8\">\\n<titl...     3  \n6  <!doctype html>\\n<meta charset=\"utf-8\">\\n<titl...     4  \n2  <!doctype html>\\n<meta charset=\"utf-8\">\\n<titl...     5  \n3  <!doctype html>\\n<meta charset=\"utf-8\">\\n<titl...     6  \n7  <!doctype html>\\n<meta charset=\"utf-8\">\\n<titl...     7  \n8  <!doctype html>\\n<meta charset=\"utf-8\">\\n<titl...     8  \n9  <!doctype html>\\n<meta charset=\"utf-8\">\\n<titl...     9  ",
      "text/html": "<div>\n<style scoped>\n    .dataframe tbody tr th:only-of-type {\n        vertical-align: middle;\n    }\n\n    .dataframe tbody tr th {\n        vertical-align: top;\n    }\n\n    .dataframe thead th {\n        text-align: right;\n    }\n</style>\n<table border=\"1\" class=\"dataframe\">\n  <thead>\n    <tr style=\"text-align: right;\">\n      <th></th>\n      <th>qid</th>\n      <th>query</th>\n      <th>docno</th>\n      <th>score</th>\n      <th>uuid</th>\n      <th>trec_id</th>\n      <th>index</th>\n      <th>target_hostname</th>\n      <th>target_uri</th>\n      <th>page_rank</th>\n      <th>spam_rank</th>\n      <th>title_highlighted</th>\n      <th>title_text</th>\n      <th>snippet_highlighted</th>\n      <th>snippet_text</th>\n      <th>explanation</th>\n      <th>html</th>\n      <th>html_plain</th>\n      <th>rank</th>\n    </tr>\n  </thead>\n  <tbody>\n    <tr>\n      <th>0</th>\n      <td>1</td>\n      <td>dog breeds</td>\n      <td>clueweb12-0715wb-35-17002</td>\n      <td>2166.4966</td>\n      <td>7b780514-5755-5f66-a9d8-ecdf1083e423</td>\n      <td>clueweb12-0715wb-35-17002</td>\n      <td>cw12</td>\n      <td>www.yourpurebredpuppy.com</td>\n      <td>http://www.yourpurebredpuppy.com/dogbreeds/ind...</td>\n      <td>1.373495e-09</td>\n      <td>94</td>\n      <td>&lt;em&gt;Dog&lt;/em&gt; &lt;em&gt;Breed&lt;/em&gt; Reviews – Giant &lt;e...</td>\n      <td>Dog Breed Reviews – Giant Dog Breeds</td>\n      <td>o 11 Things You Must Do Right To Keep Your &lt;em...</td>\n      <td>o 11 Things You Must Do Right To Keep Your Dog...</td>\n      <td>ExplanationResponse(value=2166.4968, descripti...</td>\n      <td>&lt;!doctype html&gt;\\n&lt;meta charset=\"utf-8\"&gt;\\n&lt;titl...</td>\n      <td>&lt;!doctype html&gt;\\n&lt;meta charset=\"utf-8\"&gt;\\n&lt;titl...</td>\n      <td>0</td>\n    </tr>\n    <tr>\n      <th>4</th>\n      <td>1</td>\n      <td>dog breeds</td>\n      <td>clueweb09-en0113-70-25489</td>\n      <td>2166.1777</td>\n      <td>29b89e81-709e-58a7-9d51-d4ab9ebfe4c6</td>\n      <td>clueweb09-en0113-70-25489</td>\n      <td>cw09</td>\n      <td>dog-breed-facts.com</td>\n      <td>http://dog-breed-facts.com/articles/Breed-clas...</td>\n      <td>1.500000e-01</td>\n      <td>75</td>\n      <td>&lt;em&gt;dog&lt;/em&gt; &lt;em&gt;breed&lt;/em&gt; classification|&lt;em...</td>\n      <td>dog breed classification|dog breed selector|sm...</td>\n      <td>Sighthounds have traits in common as do Terrie...</td>\n      <td>Sighthounds have traits in common as do Terrie...</td>\n      <td>ExplanationResponse(value=2166.1777, descripti...</td>\n      <td>&lt;!doctype html&gt;\\n&lt;meta charset=\"utf-8\"&gt;\\n&lt;titl...</td>\n      <td>&lt;!doctype html&gt;\\n&lt;meta charset=\"utf-8\"&gt;\\n&lt;titl...</td>\n      <td>1</td>\n    </tr>\n    <tr>\n      <th>5</th>\n      <td>1</td>\n      <td>dog breeds</td>\n      <td>clueweb09-en0006-50-14388</td>\n      <td>2165.2537</td>\n      <td>57d5626a-dda7-5298-bb8a-8a944d3055ba</td>\n      <td>clueweb09-en0006-50-14388</td>\n      <td>cw09</td>\n      <td>www.dog-breed-facts.com</td>\n      <td>http://www.dog-breed-facts.com/articles/Breed-...</td>\n      <td>1.573170e-01</td>\n      <td>90</td>\n      <td>&lt;em&gt;dog&lt;/em&gt; &lt;em&gt;breed&lt;/em&gt; classification|&lt;em...</td>\n      <td>dog breed classification|dog breed selector|sm...</td>\n      <td>Sighthounds have traits in common as do Terrie...</td>\n      <td>Sighthounds have traits in common as do Terrie...</td>\n      <td>ExplanationResponse(value=2165.2537, descripti...</td>\n      <td>&lt;!doctype html&gt;\\n&lt;meta charset=\"utf-8\"&gt;\\n&lt;titl...</td>\n      <td>&lt;!doctype html&gt;\\n&lt;meta charset=\"utf-8\"&gt;\\n&lt;titl...</td>\n      <td>2</td>\n    </tr>\n    <tr>\n      <th>1</th>\n      <td>1</td>\n      <td>dog breeds</td>\n      <td>clueweb12-0716wb-02-23645</td>\n      <td>2163.9990</td>\n      <td>8c7fb926-1e10-5835-9f50-a9d120c05db0</td>\n      <td>clueweb12-0716wb-02-23645</td>\n      <td>cw12</td>\n      <td>www.yourpurebredpuppy.com</td>\n      <td>http://www.yourpurebredpuppy.com/dogbreeds/ind...</td>\n      <td>1.375767e-09</td>\n      <td>92</td>\n      <td>&lt;em&gt;Dog&lt;/em&gt; &lt;em&gt;Breed&lt;/em&gt; Reviews – Large &lt;e...</td>\n      <td>Dog Breed Reviews – Large Dog Breeds</td>\n      <td>o 11 Things You Must Do Right To Keep Your &lt;em...</td>\n      <td>o 11 Things You Must Do Right To Keep Your Dog...</td>\n      <td>ExplanationResponse(value=2163.9993, descripti...</td>\n      <td>&lt;!doctype html&gt;\\n&lt;meta charset=\"utf-8\"&gt;\\n&lt;titl...</td>\n      <td>&lt;!doctype html&gt;\\n&lt;meta charset=\"utf-8\"&gt;\\n&lt;titl...</td>\n      <td>3</td>\n    </tr>\n    <tr>\n      <th>6</th>\n      <td>1</td>\n      <td>dog breeds</td>\n      <td>clueweb12-0811wb-88-17480</td>\n      <td>2158.9507</td>\n      <td>569790a2-eb2e-59ee-84cf-1887d195d294</td>\n      <td>clueweb12-0811wb-88-17480</td>\n      <td>cw12</td>\n      <td>puppies.about.com</td>\n      <td>http://puppies.about.com/od/BestDogForMe/a/Dog...</td>\n      <td>1.315804e-09</td>\n      <td>91</td>\n      <td>&lt;em&gt;Dog&lt;/em&gt; &lt;em&gt;Breeds&lt;/em&gt; - What Is A &lt;em&gt;D...</td>\n      <td>Dog Breeds - What Is A Dog Breed</td>\n      <td>Purebred puppies are produced by breeding two ...</td>\n      <td>Purebred puppies are produced by breeding two ...</td>\n      <td>ExplanationResponse(value=2158.9507, descripti...</td>\n      <td>&lt;!doctype html&gt;\\n&lt;meta charset=\"utf-8\"&gt;\\n&lt;titl...</td>\n      <td>&lt;!doctype html&gt;\\n&lt;meta charset=\"utf-8\"&gt;\\n&lt;titl...</td>\n      <td>4</td>\n    </tr>\n    <tr>\n      <th>2</th>\n      <td>1</td>\n      <td>dog breeds</td>\n      <td>clueweb12-0715wb-27-19537</td>\n      <td>2149.0513</td>\n      <td>92903ffc-3492-560c-84d7-30fd84b516ad</td>\n      <td>clueweb12-0715wb-27-19537</td>\n      <td>cw12</td>\n      <td>www.yourpurebredpuppy.com</td>\n      <td>http://www.yourpurebredpuppy.com/dogbreeds/ind...</td>\n      <td>1.371416e-09</td>\n      <td>91</td>\n      <td>&lt;em&gt;Dog&lt;/em&gt; &lt;em&gt;Breed&lt;/em&gt; Reviews – Small &lt;e...</td>\n      <td>Dog Breed Reviews – Small Dog Breeds</td>\n      <td>o 11 Things You Must Do Right To Keep Your &lt;em...</td>\n      <td>o 11 Things You Must Do Right To Keep Your Dog...</td>\n      <td>ExplanationResponse(value=2149.0513, descripti...</td>\n      <td>&lt;!doctype html&gt;\\n&lt;meta charset=\"utf-8\"&gt;\\n&lt;titl...</td>\n      <td>&lt;!doctype html&gt;\\n&lt;meta charset=\"utf-8\"&gt;\\n&lt;titl...</td>\n      <td>5</td>\n    </tr>\n    <tr>\n      <th>3</th>\n      <td>1</td>\n      <td>dog breeds</td>\n      <td>clueweb12-0715wb-27-19536</td>\n      <td>2145.5340</td>\n      <td>db7740db-64bc-58aa-b04f-aa14c4ca5934</td>\n      <td>clueweb12-0715wb-27-19536</td>\n      <td>cw12</td>\n      <td>www.yourpurebredpuppy.com</td>\n      <td>http://www.yourpurebredpuppy.com/dogbreeds/ind...</td>\n      <td>1.370958e-09</td>\n      <td>91</td>\n      <td>&lt;em&gt;Dog&lt;/em&gt; &lt;em&gt;Breed&lt;/em&gt; Reviews – Medium S...</td>\n      <td>Dog Breed Reviews – Medium Size Dog Breeds</td>\n      <td>I&amp;#x27;m Michele Welton – &lt;em&gt;breed&lt;/em&gt; selec...</td>\n      <td>I'm Michele Welton – breed selection consultan...</td>\n      <td>ExplanationResponse(value=2145.5337, descripti...</td>\n      <td>&lt;!doctype html&gt;\\n&lt;meta charset=\"utf-8\"&gt;\\n&lt;titl...</td>\n      <td>&lt;!doctype html&gt;\\n&lt;meta charset=\"utf-8\"&gt;\\n&lt;titl...</td>\n      <td>6</td>\n    </tr>\n    <tr>\n      <th>7</th>\n      <td>1</td>\n      <td>dog breeds</td>\n      <td>clueweb12-0108wb-79-22919</td>\n      <td>2139.5435</td>\n      <td>f76e3e66-d517-55f7-80b8-f085ccbc56f2</td>\n      <td>clueweb12-0108wb-79-22919</td>\n      <td>cw12</td>\n      <td>www.dogandcollar.com</td>\n      <td>http://www.dogandcollar.com/breed-profiles.htm</td>\n      <td>1.611213e-09</td>\n      <td>77</td>\n      <td>&lt;em&gt;Dog&lt;/em&gt; &lt;em&gt;Breed&lt;/em&gt; Profiles, &lt;em&gt;Dog&lt;...</td>\n      <td>Dog Breed Profiles, Dog Breed Origins, Small D...</td>\n      <td>Humans have selectively bred &lt;em&gt;dogs&lt;/em&gt; for...</td>\n      <td>Humans have selectively bred dogs for centurie...</td>\n      <td>ExplanationResponse(value=2139.5435, descripti...</td>\n      <td>&lt;!doctype html&gt;\\n&lt;meta charset=\"utf-8\"&gt;\\n&lt;titl...</td>\n      <td>&lt;!doctype html&gt;\\n&lt;meta charset=\"utf-8\"&gt;\\n&lt;titl...</td>\n      <td>7</td>\n    </tr>\n    <tr>\n      <th>8</th>\n      <td>1</td>\n      <td>dog breeds</td>\n      <td>clueweb09-en0021-15-33022</td>\n      <td>2136.5120</td>\n      <td>3e65bb51-48c7-5c98-b24a-7c37476f42f9</td>\n      <td>clueweb09-en0021-15-33022</td>\n      <td>cw09</td>\n      <td>www.dogtrainingclassroom.com</td>\n      <td>http://www.dogtrainingclassroom.com/dog-breeds...</td>\n      <td>3.276940e-01</td>\n      <td>78</td>\n      <td>&lt;em&gt;Dog&lt;/em&gt; &lt;em&gt;Breeds&lt;/em&gt; | &lt;em&gt;Dog&lt;/em&gt; &lt;e...</td>\n      <td>Dog Breeds | Dog Breed Info</td>\n      <td>Listed below are useful &lt;em&gt;dog&lt;/em&gt; &lt;em&gt;breed...</td>\n      <td>Listed below are useful dog breed info on diff...</td>\n      <td>ExplanationResponse(value=2136.512, descriptio...</td>\n      <td>&lt;!doctype html&gt;\\n&lt;meta charset=\"utf-8\"&gt;\\n&lt;titl...</td>\n      <td>&lt;!doctype html&gt;\\n&lt;meta charset=\"utf-8\"&gt;\\n&lt;titl...</td>\n      <td>8</td>\n    </tr>\n    <tr>\n      <th>9</th>\n      <td>1</td>\n      <td>dog breeds</td>\n      <td>clueweb12-0704wb-43-30321</td>\n      <td>2130.2150</td>\n      <td>7354d3b9-a389-5c0e-a23a-63994fbab229</td>\n      <td>clueweb12-0704wb-43-30321</td>\n      <td>cw12</td>\n      <td>www.training-dogs.com</td>\n      <td>http://www.training-dogs.com/dog-breeds.html</td>\n      <td>1.218488e-09</td>\n      <td>74</td>\n      <td>&lt;em&gt;Dog&lt;/em&gt; &lt;em&gt;breeds&lt;/em&gt;</td>\n      <td>Dog breeds</td>\n      <td>&lt;em&gt;Dog&lt;/em&gt; &lt;em&gt;breeds&lt;/em&gt;: There is so much...</td>\n      <td>Dog breeds: There is so much variety! How do y...</td>\n      <td>ExplanationResponse(value=2130.215, descriptio...</td>\n      <td>&lt;!doctype html&gt;\\n&lt;meta charset=\"utf-8\"&gt;\\n&lt;titl...</td>\n      <td>&lt;!doctype html&gt;\\n&lt;meta charset=\"utf-8\"&gt;\\n&lt;titl...</td>\n      <td>9</td>\n    </tr>\n  </tbody>\n</table>\n</div>"
     },
     "execution_count": 19,
     "metadata": {},
     "output_type": "execute_result"
    }
   ],
   "source": [
    "from chatnoir_pyterrier.retrieve import ChatNoirRetrieve, Feature\n",
    "\n",
    "chatnoir_all = ~ChatNoirRetrieve(api_key, features=Feature.ALL, verbose=True)\n",
    "chatnoir_all.search(\"dog breeds\")"
   ],
   "metadata": {
    "collapsed": false
   }
  }
 ],
 "metadata": {
  "kernelspec": {
   "display_name": "Python 3",
   "language": "python",
   "name": "python3"
  },
  "language_info": {
   "codemirror_mode": {
    "name": "ipython",
    "version": 2
   },
   "file_extension": ".py",
   "mimetype": "text/x-python",
   "name": "python",
   "nbconvert_exporter": "python",
   "pygments_lexer": "ipython2",
   "version": "2.7.6"
  }
 },
 "nbformat": 4,
 "nbformat_minor": 0
}
