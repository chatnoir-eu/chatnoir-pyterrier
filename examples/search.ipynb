{
 "cells": [
  {
   "cell_type": "markdown",
   "source": [
    "# Using ChatNoir in PyTerrier experiments\n",
    "The [ChatNoir](https://chatnoir.eu/) search engine is a low-barrier way to search the ClueWeb and CommonCrawl corpora.\n",
    "Using its search API's via the [`chatnoir-pyterrier`](https://pypi.org/project/chatnoir-pyterrier/) Python package,\n",
    "we can integrate the ClueWeb and CommonCrawl into PyTerrier experiments without the hassle of indexing either of them.\n",
    "This facilitates research with these large web crawls for individuals and institutions without extensive hardware.\n",
    "\n",
    "(Note: `chatnoir-pyterrier` uses [`chatnoir-api`](https://pypi.org/project/chatnoir-api/) under the hood.)"
   ],
   "metadata": {
    "collapsed": false
   }
  },
  {
   "cell_type": "markdown",
   "source": [
    "## Configuration\n",
    "To access the ChatNoir API, we need an API key. Refer to the [API documentation](https://chatnoir.eu/doc/api/) about how to get a key."
   ],
   "metadata": {
    "collapsed": false
   }
  },
  {
   "cell_type": "code",
   "execution_count": 18,
   "outputs": [],
   "source": [
    "api_key: str = input(\"ChatNoir API key: \")"
   ],
   "metadata": {
    "collapsed": false,
    "pycharm": {
     "name": "#%%\n"
    }
   }
  },
  {
   "cell_type": "markdown",
   "source": [
    "## Setup"
   ],
   "metadata": {
    "collapsed": false
   }
  },
  {
   "cell_type": "markdown",
   "source": [
    "Install Python packages if run in Google Colab."
   ],
   "metadata": {
    "collapsed": false
   }
  },
  {
   "cell_type": "code",
   "execution_count": 19,
   "outputs": [],
   "source": [
    "from sys import modules\n",
    "\n",
    "if \"google.colab\" in modules:\n",
    "    !pip install -q chatnoir-pyterrier python-terrier"
   ],
   "metadata": {
    "collapsed": false,
    "pycharm": {
     "name": "#%%\n"
    }
   }
  },
  {
   "cell_type": "markdown",
   "source": [
    "Initialize PyTerrier."
   ],
   "metadata": {
    "collapsed": false
   }
  },
  {
   "cell_type": "code",
   "execution_count": 20,
   "outputs": [],
   "source": [
    "from pyterrier import init, started"
   ],
   "metadata": {
    "collapsed": false,
    "pycharm": {
     "name": "#%%\n"
    }
   }
  },
  {
   "cell_type": "code",
   "execution_count": 21,
   "outputs": [
    {
     "name": "stderr",
     "output_type": "stream",
     "text": [
      "PyTerrier 0.8.0 has loaded Terrier 5.6 (built by craigmacdonald on 2021-09-17 13:27)\n",
      "\n",
      "No etc/terrier.properties, using terrier.default.properties for bootstrap configuration.\n"
     ]
    }
   ],
   "source": [
    "if not started():\n",
    "    init()"
   ],
   "metadata": {
    "collapsed": false,
    "pycharm": {
     "name": "#%%\n"
    }
   }
  },
  {
   "cell_type": "markdown",
   "source": [
    "## Retrieval pipeline\n",
    "We can now create a retrieval pipeline which retrieves results from [ChatNoir](https://chatnoir.eu/).\n",
    "Create a `ChatNoirRetrieve` transformer by specifying the ChatNoir API key and (optionally) some index.\n",
    "You can then use the pipeline in the same way as `BatchRetrieve`.\n",
    "(We [cache](https://pyterrier.readthedocs.io/en/latest/operators.html#caching) the transformer results with `~`.)"
   ],
   "metadata": {
    "collapsed": false
   }
  },
  {
   "cell_type": "code",
   "execution_count": 22,
   "outputs": [],
   "source": [
    "from chatnoir_api import Index\n",
    "from chatnoir_pyterrier import ChatNoirRetrieve\n",
    "\n",
    "chatnoir_cw12 = ~ChatNoirRetrieve(api_key, index=Index.ClueWeb12, verbose=True)"
   ],
   "metadata": {
    "collapsed": false,
    "pycharm": {
     "name": "#%%\n"
    }
   }
  },
  {
   "cell_type": "markdown",
   "source": [
    "### Search\n",
    "For example, we can search the ClueWeb 12 for documents containing `python library`:"
   ],
   "metadata": {
    "collapsed": false
   }
  },
  {
   "cell_type": "code",
   "execution_count": 23,
   "outputs": [
    {
     "data": {
      "text/plain": "  qid           query                      docno      score  rank\n0   1  python library  clueweb12-0006wb-18-00118  1877.7197     0\n2   1  python library  clueweb12-0105wb-56-31703  1820.1168     1\n3   1  python library  clueweb12-0005wb-80-08722  1815.3436     2\n4   1  python library  clueweb12-0205wb-47-30303  1807.1592     3\n5   1  python library  clueweb12-0205wb-63-17912  1805.4083     4\n1   1  python library  clueweb12-0006wb-46-12772  1789.6826     5\n6   1  python library  clueweb12-0208wb-28-20755  1786.6001     6\n7   1  python library  clueweb12-0205wb-25-32436  1785.1276     7\n8   1  python library  clueweb12-0000wb-90-02108  1770.4622     8\n9   1  python library  clueweb12-0408wb-59-14855  1767.0771     9",
      "text/html": "<div>\n<style scoped>\n    .dataframe tbody tr th:only-of-type {\n        vertical-align: middle;\n    }\n\n    .dataframe tbody tr th {\n        vertical-align: top;\n    }\n\n    .dataframe thead th {\n        text-align: right;\n    }\n</style>\n<table border=\"1\" class=\"dataframe\">\n  <thead>\n    <tr style=\"text-align: right;\">\n      <th></th>\n      <th>qid</th>\n      <th>query</th>\n      <th>docno</th>\n      <th>score</th>\n      <th>rank</th>\n    </tr>\n  </thead>\n  <tbody>\n    <tr>\n      <th>0</th>\n      <td>1</td>\n      <td>python library</td>\n      <td>clueweb12-0006wb-18-00118</td>\n      <td>1877.7197</td>\n      <td>0</td>\n    </tr>\n    <tr>\n      <th>2</th>\n      <td>1</td>\n      <td>python library</td>\n      <td>clueweb12-0105wb-56-31703</td>\n      <td>1820.1168</td>\n      <td>1</td>\n    </tr>\n    <tr>\n      <th>3</th>\n      <td>1</td>\n      <td>python library</td>\n      <td>clueweb12-0005wb-80-08722</td>\n      <td>1815.3436</td>\n      <td>2</td>\n    </tr>\n    <tr>\n      <th>4</th>\n      <td>1</td>\n      <td>python library</td>\n      <td>clueweb12-0205wb-47-30303</td>\n      <td>1807.1592</td>\n      <td>3</td>\n    </tr>\n    <tr>\n      <th>5</th>\n      <td>1</td>\n      <td>python library</td>\n      <td>clueweb12-0205wb-63-17912</td>\n      <td>1805.4083</td>\n      <td>4</td>\n    </tr>\n    <tr>\n      <th>1</th>\n      <td>1</td>\n      <td>python library</td>\n      <td>clueweb12-0006wb-46-12772</td>\n      <td>1789.6826</td>\n      <td>5</td>\n    </tr>\n    <tr>\n      <th>6</th>\n      <td>1</td>\n      <td>python library</td>\n      <td>clueweb12-0208wb-28-20755</td>\n      <td>1786.6001</td>\n      <td>6</td>\n    </tr>\n    <tr>\n      <th>7</th>\n      <td>1</td>\n      <td>python library</td>\n      <td>clueweb12-0205wb-25-32436</td>\n      <td>1785.1276</td>\n      <td>7</td>\n    </tr>\n    <tr>\n      <th>8</th>\n      <td>1</td>\n      <td>python library</td>\n      <td>clueweb12-0000wb-90-02108</td>\n      <td>1770.4622</td>\n      <td>8</td>\n    </tr>\n    <tr>\n      <th>9</th>\n      <td>1</td>\n      <td>python library</td>\n      <td>clueweb12-0408wb-59-14855</td>\n      <td>1767.0771</td>\n      <td>9</td>\n    </tr>\n  </tbody>\n</table>\n</div>"
     },
     "execution_count": 23,
     "metadata": {},
     "output_type": "execute_result"
    }
   ],
   "source": [
    "chatnoir_cw12.search(\"python library\")"
   ],
   "metadata": {
    "collapsed": false,
    "pycharm": {
     "name": "#%%\n"
    }
   }
  },
  {
   "cell_type": "markdown",
   "source": [
    "### Evaluation\n",
    "We can also use the pipeline in a PyTerrier `Experiment` (and compare it to other retrieval pipelines).\n",
    "First, we need to download the test topics, for example from the TREC Web Track 2014.\n",
    "(Refer to the [PyTerrier documentation](https://pyterrier.readthedocs.io/en/latest/datasets.html#examples) for more detailed guides.)"
   ],
   "metadata": {
    "collapsed": false
   }
  },
  {
   "cell_type": "code",
   "execution_count": 24,
   "outputs": [
    {
     "name": "stderr",
     "output_type": "stream",
     "text": [
      "/home/heinrich/Development/reimer-jan-heinrich/chatnoir-pyterrier/venv/lib/python3.9/site-packages/pyterrier/datasets.py:433: FutureWarning: In a future version of pandas all arguments of DataFrame.drop except for the argument 'labels' will be keyword-only\n",
      "  df.drop(df.columns.difference(['qid','query']), 1, inplace=True)\n"
     ]
    }
   ],
   "source": [
    "from pandas import DataFrame\n",
    "from pyterrier.datasets import Dataset, get_dataset\n",
    "\n",
    "dataset: Dataset = get_dataset(\"irds:clueweb12/trec-web-2014\")\n",
    "topics: DataFrame = dataset.get_topics(variant=\"query\").iloc[:5]"
   ],
   "metadata": {
    "collapsed": false,
    "pycharm": {
     "name": "#%%\n"
    }
   }
  },
  {
   "cell_type": "markdown",
   "source": [
    "Now we can, for example, retrieve documents for the TREC Web Track 2014 topics."
   ],
   "metadata": {
    "collapsed": false
   }
  },
  {
   "cell_type": "code",
   "execution_count": 25,
   "outputs": [
    {
     "data": {
      "text/plain": "    qid                     query                      docno      score  rank\n0   251  identifying spider bites  clueweb12-0110wb-54-25957  1942.4440     0\n1   251  identifying spider bites  clueweb12-0310wb-50-11456  1897.0323     1\n2   251  identifying spider bites  clueweb12-1716wb-96-27852  1896.7426     2\n3   251  identifying spider bites  clueweb12-0006wb-33-07815  1876.0474     3\n4   251  identifying spider bites  clueweb12-0002wb-32-28229  1618.8670     7\n5   251  identifying spider bites  clueweb12-0002wb-19-01278  1596.9993     8\n6   251  identifying spider bites  clueweb12-0308wb-28-03934  1818.2316     4\n7   251  identifying spider bites  clueweb12-0300wb-82-24885  1801.4624     5\n8   251  identifying spider bites  clueweb12-1804wb-20-18328  1682.8317     6\n9   251  identifying spider bites  clueweb12-1115wb-68-00711  1563.0403     9\n10  252   history of orcas island  clueweb12-0911wb-12-05181  2267.2427     0\n11  252   history of orcas island  clueweb12-0302wb-83-05876  2121.4970     1\n12  252   history of orcas island  clueweb12-0713wb-77-24557  1953.6577     2\n13  252   history of orcas island  clueweb12-0713wb-63-28106  1940.9980     3\n14  252   history of orcas island  clueweb12-0714wb-82-22539  1927.9315     4\n15  252   history of orcas island  clueweb12-0710wb-97-10735  1896.9365     5\n16  252   history of orcas island  clueweb12-0710wb-97-10734  1889.6069     6\n17  252   history of orcas island  clueweb12-0709wb-53-21037  1877.2443     7\n18  252   history of orcas island  clueweb12-0710wb-02-08288  1853.8027     8\n19  252   history of orcas island  clueweb12-0210wb-83-27232  1839.5220     9\n20  253             tooth abscess  clueweb12-0405wb-92-21058  3041.9768     0\n21  253             tooth abscess  clueweb12-1906wb-79-15571  3036.3223     1\n22  253             tooth abscess  clueweb12-0005wb-17-11685  3034.5790     2\n23  253             tooth abscess  clueweb12-0411wb-13-24286  3017.7358     3\n24  253             tooth abscess  clueweb12-1216wb-77-33880  3014.9226     4\n25  253             tooth abscess  clueweb12-0503wb-78-26135  2958.7350     5\n26  253             tooth abscess  clueweb12-0602wb-15-18498  2954.4030     6\n27  253             tooth abscess  clueweb12-1600wb-32-12121  2902.3499     7\n28  253             tooth abscess  clueweb12-1403wb-16-02725  2887.3608     8\n29  253             tooth abscess  clueweb12-1514wb-57-03328  2857.0544     9\n30  254       barrett s esophagus  clueweb12-0906wb-11-12879  3422.6191     0\n31  254       barrett s esophagus  clueweb12-0918wb-43-20583  3141.6558     1\n32  254       barrett s esophagus  clueweb12-0918wb-43-20581  3060.1685     2\n33  254       barrett s esophagus  clueweb12-0401wb-71-13667  2820.2441     3\n34  254       barrett s esophagus  clueweb12-0401wb-73-24231  2664.3093     4\n35  254       barrett s esophagus  clueweb12-0208wb-00-05232  2660.3906     5\n36  254       barrett s esophagus  clueweb12-0401wb-52-19569  2658.8535     6\n37  254       barrett s esophagus  clueweb12-0100wb-02-07629  2656.9844     7\n38  254       barrett s esophagus  clueweb12-0013wb-64-17841  2648.4424     8\n39  254       barrett s esophagus  clueweb12-1204wb-51-23381  2643.7883     9\n40  255               teddy bears  clueweb12-1004wb-58-15473  2550.3510     0\n41  255               teddy bears  clueweb12-0917wb-64-01127  2550.3025     1\n42  255               teddy bears  clueweb12-1003wb-97-09656  2546.5627     2\n43  255               teddy bears  clueweb12-0917wb-64-01139  2537.2314     5\n44  255               teddy bears  clueweb12-1001wb-43-24116  2531.3580     6\n45  255               teddy bears  clueweb12-0409wb-75-02601  2543.2324     3\n46  255               teddy bears  clueweb12-1210wb-87-17200  2539.6367     4\n47  255               teddy bears  clueweb12-1208wb-10-02152  2519.3386     8\n48  255               teddy bears  clueweb12-0500wb-56-07810  2527.2222     7\n49  255               teddy bears  clueweb12-0704wb-08-18271  2511.6240     9",
      "text/html": "<div>\n<style scoped>\n    .dataframe tbody tr th:only-of-type {\n        vertical-align: middle;\n    }\n\n    .dataframe tbody tr th {\n        vertical-align: top;\n    }\n\n    .dataframe thead th {\n        text-align: right;\n    }\n</style>\n<table border=\"1\" class=\"dataframe\">\n  <thead>\n    <tr style=\"text-align: right;\">\n      <th></th>\n      <th>qid</th>\n      <th>query</th>\n      <th>docno</th>\n      <th>score</th>\n      <th>rank</th>\n    </tr>\n  </thead>\n  <tbody>\n    <tr>\n      <th>0</th>\n      <td>251</td>\n      <td>identifying spider bites</td>\n      <td>clueweb12-0110wb-54-25957</td>\n      <td>1942.4440</td>\n      <td>0</td>\n    </tr>\n    <tr>\n      <th>1</th>\n      <td>251</td>\n      <td>identifying spider bites</td>\n      <td>clueweb12-0310wb-50-11456</td>\n      <td>1897.0323</td>\n      <td>1</td>\n    </tr>\n    <tr>\n      <th>2</th>\n      <td>251</td>\n      <td>identifying spider bites</td>\n      <td>clueweb12-1716wb-96-27852</td>\n      <td>1896.7426</td>\n      <td>2</td>\n    </tr>\n    <tr>\n      <th>3</th>\n      <td>251</td>\n      <td>identifying spider bites</td>\n      <td>clueweb12-0006wb-33-07815</td>\n      <td>1876.0474</td>\n      <td>3</td>\n    </tr>\n    <tr>\n      <th>4</th>\n      <td>251</td>\n      <td>identifying spider bites</td>\n      <td>clueweb12-0002wb-32-28229</td>\n      <td>1618.8670</td>\n      <td>7</td>\n    </tr>\n    <tr>\n      <th>5</th>\n      <td>251</td>\n      <td>identifying spider bites</td>\n      <td>clueweb12-0002wb-19-01278</td>\n      <td>1596.9993</td>\n      <td>8</td>\n    </tr>\n    <tr>\n      <th>6</th>\n      <td>251</td>\n      <td>identifying spider bites</td>\n      <td>clueweb12-0308wb-28-03934</td>\n      <td>1818.2316</td>\n      <td>4</td>\n    </tr>\n    <tr>\n      <th>7</th>\n      <td>251</td>\n      <td>identifying spider bites</td>\n      <td>clueweb12-0300wb-82-24885</td>\n      <td>1801.4624</td>\n      <td>5</td>\n    </tr>\n    <tr>\n      <th>8</th>\n      <td>251</td>\n      <td>identifying spider bites</td>\n      <td>clueweb12-1804wb-20-18328</td>\n      <td>1682.8317</td>\n      <td>6</td>\n    </tr>\n    <tr>\n      <th>9</th>\n      <td>251</td>\n      <td>identifying spider bites</td>\n      <td>clueweb12-1115wb-68-00711</td>\n      <td>1563.0403</td>\n      <td>9</td>\n    </tr>\n    <tr>\n      <th>10</th>\n      <td>252</td>\n      <td>history of orcas island</td>\n      <td>clueweb12-0911wb-12-05181</td>\n      <td>2267.2427</td>\n      <td>0</td>\n    </tr>\n    <tr>\n      <th>11</th>\n      <td>252</td>\n      <td>history of orcas island</td>\n      <td>clueweb12-0302wb-83-05876</td>\n      <td>2121.4970</td>\n      <td>1</td>\n    </tr>\n    <tr>\n      <th>12</th>\n      <td>252</td>\n      <td>history of orcas island</td>\n      <td>clueweb12-0713wb-77-24557</td>\n      <td>1953.6577</td>\n      <td>2</td>\n    </tr>\n    <tr>\n      <th>13</th>\n      <td>252</td>\n      <td>history of orcas island</td>\n      <td>clueweb12-0713wb-63-28106</td>\n      <td>1940.9980</td>\n      <td>3</td>\n    </tr>\n    <tr>\n      <th>14</th>\n      <td>252</td>\n      <td>history of orcas island</td>\n      <td>clueweb12-0714wb-82-22539</td>\n      <td>1927.9315</td>\n      <td>4</td>\n    </tr>\n    <tr>\n      <th>15</th>\n      <td>252</td>\n      <td>history of orcas island</td>\n      <td>clueweb12-0710wb-97-10735</td>\n      <td>1896.9365</td>\n      <td>5</td>\n    </tr>\n    <tr>\n      <th>16</th>\n      <td>252</td>\n      <td>history of orcas island</td>\n      <td>clueweb12-0710wb-97-10734</td>\n      <td>1889.6069</td>\n      <td>6</td>\n    </tr>\n    <tr>\n      <th>17</th>\n      <td>252</td>\n      <td>history of orcas island</td>\n      <td>clueweb12-0709wb-53-21037</td>\n      <td>1877.2443</td>\n      <td>7</td>\n    </tr>\n    <tr>\n      <th>18</th>\n      <td>252</td>\n      <td>history of orcas island</td>\n      <td>clueweb12-0710wb-02-08288</td>\n      <td>1853.8027</td>\n      <td>8</td>\n    </tr>\n    <tr>\n      <th>19</th>\n      <td>252</td>\n      <td>history of orcas island</td>\n      <td>clueweb12-0210wb-83-27232</td>\n      <td>1839.5220</td>\n      <td>9</td>\n    </tr>\n    <tr>\n      <th>20</th>\n      <td>253</td>\n      <td>tooth abscess</td>\n      <td>clueweb12-0405wb-92-21058</td>\n      <td>3041.9768</td>\n      <td>0</td>\n    </tr>\n    <tr>\n      <th>21</th>\n      <td>253</td>\n      <td>tooth abscess</td>\n      <td>clueweb12-1906wb-79-15571</td>\n      <td>3036.3223</td>\n      <td>1</td>\n    </tr>\n    <tr>\n      <th>22</th>\n      <td>253</td>\n      <td>tooth abscess</td>\n      <td>clueweb12-0005wb-17-11685</td>\n      <td>3034.5790</td>\n      <td>2</td>\n    </tr>\n    <tr>\n      <th>23</th>\n      <td>253</td>\n      <td>tooth abscess</td>\n      <td>clueweb12-0411wb-13-24286</td>\n      <td>3017.7358</td>\n      <td>3</td>\n    </tr>\n    <tr>\n      <th>24</th>\n      <td>253</td>\n      <td>tooth abscess</td>\n      <td>clueweb12-1216wb-77-33880</td>\n      <td>3014.9226</td>\n      <td>4</td>\n    </tr>\n    <tr>\n      <th>25</th>\n      <td>253</td>\n      <td>tooth abscess</td>\n      <td>clueweb12-0503wb-78-26135</td>\n      <td>2958.7350</td>\n      <td>5</td>\n    </tr>\n    <tr>\n      <th>26</th>\n      <td>253</td>\n      <td>tooth abscess</td>\n      <td>clueweb12-0602wb-15-18498</td>\n      <td>2954.4030</td>\n      <td>6</td>\n    </tr>\n    <tr>\n      <th>27</th>\n      <td>253</td>\n      <td>tooth abscess</td>\n      <td>clueweb12-1600wb-32-12121</td>\n      <td>2902.3499</td>\n      <td>7</td>\n    </tr>\n    <tr>\n      <th>28</th>\n      <td>253</td>\n      <td>tooth abscess</td>\n      <td>clueweb12-1403wb-16-02725</td>\n      <td>2887.3608</td>\n      <td>8</td>\n    </tr>\n    <tr>\n      <th>29</th>\n      <td>253</td>\n      <td>tooth abscess</td>\n      <td>clueweb12-1514wb-57-03328</td>\n      <td>2857.0544</td>\n      <td>9</td>\n    </tr>\n    <tr>\n      <th>30</th>\n      <td>254</td>\n      <td>barrett s esophagus</td>\n      <td>clueweb12-0906wb-11-12879</td>\n      <td>3422.6191</td>\n      <td>0</td>\n    </tr>\n    <tr>\n      <th>31</th>\n      <td>254</td>\n      <td>barrett s esophagus</td>\n      <td>clueweb12-0918wb-43-20583</td>\n      <td>3141.6558</td>\n      <td>1</td>\n    </tr>\n    <tr>\n      <th>32</th>\n      <td>254</td>\n      <td>barrett s esophagus</td>\n      <td>clueweb12-0918wb-43-20581</td>\n      <td>3060.1685</td>\n      <td>2</td>\n    </tr>\n    <tr>\n      <th>33</th>\n      <td>254</td>\n      <td>barrett s esophagus</td>\n      <td>clueweb12-0401wb-71-13667</td>\n      <td>2820.2441</td>\n      <td>3</td>\n    </tr>\n    <tr>\n      <th>34</th>\n      <td>254</td>\n      <td>barrett s esophagus</td>\n      <td>clueweb12-0401wb-73-24231</td>\n      <td>2664.3093</td>\n      <td>4</td>\n    </tr>\n    <tr>\n      <th>35</th>\n      <td>254</td>\n      <td>barrett s esophagus</td>\n      <td>clueweb12-0208wb-00-05232</td>\n      <td>2660.3906</td>\n      <td>5</td>\n    </tr>\n    <tr>\n      <th>36</th>\n      <td>254</td>\n      <td>barrett s esophagus</td>\n      <td>clueweb12-0401wb-52-19569</td>\n      <td>2658.8535</td>\n      <td>6</td>\n    </tr>\n    <tr>\n      <th>37</th>\n      <td>254</td>\n      <td>barrett s esophagus</td>\n      <td>clueweb12-0100wb-02-07629</td>\n      <td>2656.9844</td>\n      <td>7</td>\n    </tr>\n    <tr>\n      <th>38</th>\n      <td>254</td>\n      <td>barrett s esophagus</td>\n      <td>clueweb12-0013wb-64-17841</td>\n      <td>2648.4424</td>\n      <td>8</td>\n    </tr>\n    <tr>\n      <th>39</th>\n      <td>254</td>\n      <td>barrett s esophagus</td>\n      <td>clueweb12-1204wb-51-23381</td>\n      <td>2643.7883</td>\n      <td>9</td>\n    </tr>\n    <tr>\n      <th>40</th>\n      <td>255</td>\n      <td>teddy bears</td>\n      <td>clueweb12-1004wb-58-15473</td>\n      <td>2550.3510</td>\n      <td>0</td>\n    </tr>\n    <tr>\n      <th>41</th>\n      <td>255</td>\n      <td>teddy bears</td>\n      <td>clueweb12-0917wb-64-01127</td>\n      <td>2550.3025</td>\n      <td>1</td>\n    </tr>\n    <tr>\n      <th>42</th>\n      <td>255</td>\n      <td>teddy bears</td>\n      <td>clueweb12-1003wb-97-09656</td>\n      <td>2546.5627</td>\n      <td>2</td>\n    </tr>\n    <tr>\n      <th>43</th>\n      <td>255</td>\n      <td>teddy bears</td>\n      <td>clueweb12-0917wb-64-01139</td>\n      <td>2537.2314</td>\n      <td>5</td>\n    </tr>\n    <tr>\n      <th>44</th>\n      <td>255</td>\n      <td>teddy bears</td>\n      <td>clueweb12-1001wb-43-24116</td>\n      <td>2531.3580</td>\n      <td>6</td>\n    </tr>\n    <tr>\n      <th>45</th>\n      <td>255</td>\n      <td>teddy bears</td>\n      <td>clueweb12-0409wb-75-02601</td>\n      <td>2543.2324</td>\n      <td>3</td>\n    </tr>\n    <tr>\n      <th>46</th>\n      <td>255</td>\n      <td>teddy bears</td>\n      <td>clueweb12-1210wb-87-17200</td>\n      <td>2539.6367</td>\n      <td>4</td>\n    </tr>\n    <tr>\n      <th>47</th>\n      <td>255</td>\n      <td>teddy bears</td>\n      <td>clueweb12-1208wb-10-02152</td>\n      <td>2519.3386</td>\n      <td>8</td>\n    </tr>\n    <tr>\n      <th>48</th>\n      <td>255</td>\n      <td>teddy bears</td>\n      <td>clueweb12-0500wb-56-07810</td>\n      <td>2527.2222</td>\n      <td>7</td>\n    </tr>\n    <tr>\n      <th>49</th>\n      <td>255</td>\n      <td>teddy bears</td>\n      <td>clueweb12-0704wb-08-18271</td>\n      <td>2511.6240</td>\n      <td>9</td>\n    </tr>\n  </tbody>\n</table>\n</div>"
     },
     "execution_count": 25,
     "metadata": {},
     "output_type": "execute_result"
    }
   ],
   "source": [
    "chatnoir_cw12.transform(topics)"
   ],
   "metadata": {
    "collapsed": false,
    "pycharm": {
     "name": "#%%\n"
    }
   }
  },
  {
   "cell_type": "markdown",
   "source": [
    "Alternatively, we could compare the results with ChatNoir's phrase search.\n",
    "Let's define the phrase search pipeline."
   ],
   "metadata": {
    "collapsed": false
   }
  },
  {
   "cell_type": "code",
   "execution_count": 26,
   "outputs": [],
   "source": [
    "from chatnoir_api import Index\n",
    "from chatnoir_pyterrier import ChatNoirRetrieve\n",
    "\n",
    "chatnoir_cw12_phrases = ~ChatNoirRetrieve(api_key, index=Index.ClueWeb12, phrases=True, verbose=True)"
   ],
   "metadata": {
    "collapsed": false,
    "pycharm": {
     "name": "#%%\n"
    }
   }
  },
  {
   "cell_type": "code",
   "execution_count": 27,
   "outputs": [
    {
     "data": {
      "text/plain": "               name    nDCG@5        AP   RR\n0          ChatNoir  0.429193  0.023267  0.6\n1  ChatNoir phrases  0.212976  0.013973  0.6",
      "text/html": "<div>\n<style scoped>\n    .dataframe tbody tr th:only-of-type {\n        vertical-align: middle;\n    }\n\n    .dataframe tbody tr th {\n        vertical-align: top;\n    }\n\n    .dataframe thead th {\n        text-align: right;\n    }\n</style>\n<table border=\"1\" class=\"dataframe\">\n  <thead>\n    <tr style=\"text-align: right;\">\n      <th></th>\n      <th>name</th>\n      <th>nDCG@5</th>\n      <th>AP</th>\n      <th>RR</th>\n    </tr>\n  </thead>\n  <tbody>\n    <tr>\n      <th>0</th>\n      <td>ChatNoir</td>\n      <td>0.429193</td>\n      <td>0.023267</td>\n      <td>0.6</td>\n    </tr>\n    <tr>\n      <th>1</th>\n      <td>ChatNoir phrases</td>\n      <td>0.212976</td>\n      <td>0.013973</td>\n      <td>0.6</td>\n    </tr>\n  </tbody>\n</table>\n</div>"
     },
     "execution_count": 27,
     "metadata": {},
     "output_type": "execute_result"
    }
   ],
   "source": [
    "from ir_measures import nDCG, RR, MAP\n",
    "from pyterrier.pipelines import Experiment\n",
    "\n",
    "Experiment(\n",
    "    [chatnoir_cw12, chatnoir_cw12_phrases],\n",
    "    topics,\n",
    "    dataset.get_qrels(),\n",
    "    eval_metrics=[nDCG @ 5, MAP, RR],\n",
    "    names=[\"ChatNoir\", \"ChatNoir phrases\"],\n",
    ")"
   ],
   "metadata": {
    "collapsed": false,
    "pycharm": {
     "name": "#%%\n"
    }
   }
  },
  {
   "cell_type": "markdown",
   "source": [
    "As you see, [ChatNoir](https://chatnoir.eu/) is a great way to experiment with the ClueWeb and CommonCrawl corpora!"
   ],
   "metadata": {
    "collapsed": false
   }
  },
  {
   "cell_type": "markdown",
   "source": [
    "## Features\n",
    "Of course, we can also put all [features](https://chatnoir.eu/doc/api/#response-data) that are returned by ChatNoir into the result dataframe.\n",
    "Choose the features you need with the `Feature` flags or select `Feature.ALL` if you want to include all features.\n",
    "Especially the `Feature.PAGE_RANK` and `Feature.SPAM_RANK` features might prove useful in subsequent reranking steps."
   ],
   "metadata": {
    "collapsed": false
   }
  },
  {
   "cell_type": "code",
   "execution_count": 28,
   "outputs": [
    {
     "data": {
      "text/plain": "  qid       query                      docno      score  \\\n0   1  dog breeds  clueweb12-0307wb-36-27851  2260.7793   \n2   1  dog breeds                       None  2241.5750   \n3   1  dog breeds                       None  2240.3790   \n4   1  dog breeds                       None  2200.3076   \n5   1  dog breeds                       None  2197.3333   \n6   1  dog breeds                       None  2190.0342   \n7   1  dog breeds                       None  2186.2378   \n8   1  dog breeds                       None  2175.2437   \n9   1  dog breeds  clueweb12-0715wb-35-17002  2166.4966   \n1   1  dog breeds  clueweb09-en0113-70-25489  2166.1777   \n\n                                   uuid   index  \\\n0  69116d66-7fde-563a-9757-627849e8d9e8    cw12   \n2  92f1f85d-022d-5c5e-8d99-e525abf7957d  cc1511   \n3  7dcee03e-3849-54e8-8024-6ebdc74abba6  cc1511   \n4  88560390-fc81-5a6d-a34b-9972f2f2ce48  cc1511   \n5  2e14dd9e-910c-5106-af33-4caaeacd61bb  cc1511   \n6  18171256-2d63-5304-8a3e-3fd19536bf9c  cc1511   \n7  8406693e-d70e-553f-a97a-25f0e5851f64  cc1511   \n8  2c707102-3e5e-58e1-8723-f9dcfcf16611  cc1511   \n9  7b780514-5755-5f66-a9d8-ecdf1083e423    cw12   \n1  29b89e81-709e-58a7-9d51-d4ab9ebfe4c6    cw09   \n\n                   target_hostname  \\\n0              dog-breed-facts.com   \n2               dogbreedslists.com   \n3           www.dogbreedslists.com   \n4                www.dogbreeds.net   \n5  www.joy-of-cartoon-pictures.com   \n6          www.dogs-are-family.com   \n7   www.animalblueprintcompany.com   \n8             www.wellbredpets.com   \n9        www.yourpurebredpuppy.com   \n1              dog-breed-facts.com   \n\n                                          target_uri     page_rank  spam_rank  \\\n0  http://dog-breed-facts.com/articles/Breed-clas...  1.177565e-09       84.0   \n2                         http://dogbreedslists.com/           NaN        NaN   \n3                     http://www.dogbreedslists.com/           NaN        NaN   \n4     http://www.dogbreeds.net/mixed-breed-dogs.html           NaN        NaN   \n5  http://www.joy-of-cartoon-pictures.com/picture...           NaN        NaN   \n6  http://www.dogs-are-family.com/extra-large-dog...           NaN        NaN   \n7   http://www.animalblueprintcompany.com/dog-breeds           NaN        NaN   \n8  http://www.wellbredpets.com/dog-breeds-breed-l...           NaN        NaN   \n9  http://www.yourpurebredpuppy.com/dogbreeds/ind...  1.373495e-09       94.0   \n1  http://dog-breed-facts.com/articles/Breed-clas...  1.500000e-01       75.0   \n\n                                   title_highlighted  \\\n0  <em>dog</em> <em>breed</em> classification|<em...   \n2  <em>Dog</em> <em>Breeds</em> | <em>Dog</em> <e...   \n3  <em>Dog</em> <em>Breeds</em> | <em>Dog</em> <e...   \n4  Mixed <em>Breed</em> <em>Dogs</em> - <em>Dog</...   \n5  pictures of <em>dog</em> <em>breeds</em>,<em>d...   \n6  Extra Large <em>Dog</em> <em>Breeds</em>, Larg...   \n7  <em>Dog</em> <em>Breeds</em> - All <em>Dog</em...   \n8  <em>Dog</em> <em>Breed</em> directory of <em>d...   \n9  <em>Dog</em> <em>Breed</em> Reviews – Giant <e...   \n1  <em>dog</em> <em>breed</em> classification|<em...   \n\n                                          title_text  \\\n0  dog breed classification|dog breed selector|sm...   \n2  Dog Breeds | Dog Breeds Informations | List of...   \n3  Dog Breeds | Dog Breeds Informations | List of...   \n4                      Mixed Breed Dogs - Dog Breeds   \n5  pictures of dog breeds,dog breed pictures,cart...   \n6  Extra Large Dog Breeds, Largest Dog Breed, Big...   \n7  Dog Breeds - All Dog Breeds, Prints of Dog Breeds   \n8                  Dog Breed directory of dog breeds   \n9               Dog Breed Reviews – Giant Dog Breeds   \n1  dog breed classification|dog breed selector|sm...   \n\n                                 snippet_highlighted  \\\n0  Sighthounds have traits in common as do Terrie...   \n2  <em>Dog</em> <em>Breeds</em> | <em>Dog</em> <e...   \n3  <em>Dog</em> <em>Breeds</em> | <em>Dog</em> <e...   \n4  Mixed <em>dogs</em>, also known as designer <e...   \n5  Visit 165 <em>dog</em> <em>breed</em> profiles...   \n6  So the extra large <em>dog</em> <em>breeds</em...   \n7  Are Small <em>Dog</em> <em>Breeds</em> More Po...   \n8  for <em>Dog</em> <em>Breeds</em> beginning wit...   \n9  o 11 Things You Must Do Right To Keep Your <em...   \n1  Sighthounds have traits in common as do Terrie...   \n\n                                        snippet_text  \\\n0  Sighthounds have traits in common as do Terrie...   \n2  Dog Breeds | Dog Breeds Informations | Picture...   \n3  Dog Breeds | Dog Breeds Informations | Picture...   \n4  Mixed dogs, also known as designer dogs or hyb...   \n5  Visit 165 dog breed profiles with illness info...   \n6  So the extra large dog breeds, or largest dog ...   \n7  Are Small Dog Breeds More Popular than Large D...   \n8  for Dog Breeds beginning with 'E' Dogs breed i...   \n9  o 11 Things You Must Do Right To Keep Your Dog...   \n1  Sighthounds have traits in common as do Terrie...   \n\n                                         explanation  \\\n0  {'description': 'sum of:', 'value': 2260.7793,...   \n2  {'description': 'sum of:', 'value': 2241.5752,...   \n3  {'description': 'sum of:', 'value': 2240.379, ...   \n4  {'description': 'sum of:', 'value': 2200.3076,...   \n5  {'description': 'sum of:', 'value': 2197.3333,...   \n6  {'description': 'sum of:', 'value': 2190.0342,...   \n7  {'description': 'sum of:', 'value': 2186.2378,...   \n8  {'description': 'sum of:', 'value': 2175.2437,...   \n9  {'description': 'sum of:', 'value': 2166.4968,...   \n1  {'description': 'sum of:', 'value': 2166.1777,...   \n\n                                                html  \\\n0  <!doctype html>\\n<meta charset=\"utf-8\">\\n<titl...   \n2  <!doctype html>\\n<meta charset=\"utf-8\">\\n<titl...   \n3  <!doctype html>\\n<meta charset=\"utf-8\">\\n<titl...   \n4  <!doctype html>\\n<meta charset=\"utf-8\">\\n<titl...   \n5  <!doctype html>\\n<meta charset=\"utf-8\">\\n<titl...   \n6  <!doctype html>\\n<meta charset=\"utf-8\">\\n<titl...   \n7  <!doctype html>\\n<meta charset=\"utf-8\">\\n<titl...   \n8  <!doctype html>\\n<meta charset=\"utf-8\">\\n<titl...   \n9  <!doctype html>\\n<meta charset=\"utf-8\">\\n<titl...   \n1  <!doctype html>\\n<meta charset=\"utf-8\">\\n<titl...   \n\n                                          html_plain  rank  \n0  <!doctype html>\\n<meta charset=\"utf-8\">\\n<titl...     0  \n2  <!doctype html>\\n<meta charset=\"utf-8\">\\n<titl...     1  \n3  <!doctype html>\\n<meta charset=\"utf-8\">\\n<titl...     2  \n4  <!doctype html>\\n<meta charset=\"utf-8\">\\n<titl...     3  \n5  <!doctype html>\\n<meta charset=\"utf-8\">\\n<titl...     4  \n6  <!doctype html>\\n<meta charset=\"utf-8\">\\n<titl...     5  \n7  <!doctype html>\\n<meta charset=\"utf-8\">\\n<titl...     6  \n8  <!doctype html>\\n<meta charset=\"utf-8\">\\n<titl...     7  \n9  <!doctype html>\\n<meta charset=\"utf-8\">\\n<titl...     8  \n1  <!doctype html>\\n<meta charset=\"utf-8\">\\n<titl...     9  ",
      "text/html": "<div>\n<style scoped>\n    .dataframe tbody tr th:only-of-type {\n        vertical-align: middle;\n    }\n\n    .dataframe tbody tr th {\n        vertical-align: top;\n    }\n\n    .dataframe thead th {\n        text-align: right;\n    }\n</style>\n<table border=\"1\" class=\"dataframe\">\n  <thead>\n    <tr style=\"text-align: right;\">\n      <th></th>\n      <th>qid</th>\n      <th>query</th>\n      <th>docno</th>\n      <th>score</th>\n      <th>uuid</th>\n      <th>index</th>\n      <th>target_hostname</th>\n      <th>target_uri</th>\n      <th>page_rank</th>\n      <th>spam_rank</th>\n      <th>title_highlighted</th>\n      <th>title_text</th>\n      <th>snippet_highlighted</th>\n      <th>snippet_text</th>\n      <th>explanation</th>\n      <th>html</th>\n      <th>html_plain</th>\n      <th>rank</th>\n    </tr>\n  </thead>\n  <tbody>\n    <tr>\n      <th>0</th>\n      <td>1</td>\n      <td>dog breeds</td>\n      <td>clueweb12-0307wb-36-27851</td>\n      <td>2260.7793</td>\n      <td>69116d66-7fde-563a-9757-627849e8d9e8</td>\n      <td>cw12</td>\n      <td>dog-breed-facts.com</td>\n      <td>http://dog-breed-facts.com/articles/Breed-clas...</td>\n      <td>1.177565e-09</td>\n      <td>84.0</td>\n      <td>&lt;em&gt;dog&lt;/em&gt; &lt;em&gt;breed&lt;/em&gt; classification|&lt;em...</td>\n      <td>dog breed classification|dog breed selector|sm...</td>\n      <td>Sighthounds have traits in common as do Terrie...</td>\n      <td>Sighthounds have traits in common as do Terrie...</td>\n      <td>{'description': 'sum of:', 'value': 2260.7793,...</td>\n      <td>&lt;!doctype html&gt;\\n&lt;meta charset=\"utf-8\"&gt;\\n&lt;titl...</td>\n      <td>&lt;!doctype html&gt;\\n&lt;meta charset=\"utf-8\"&gt;\\n&lt;titl...</td>\n      <td>0</td>\n    </tr>\n    <tr>\n      <th>2</th>\n      <td>1</td>\n      <td>dog breeds</td>\n      <td>None</td>\n      <td>2241.5750</td>\n      <td>92f1f85d-022d-5c5e-8d99-e525abf7957d</td>\n      <td>cc1511</td>\n      <td>dogbreedslists.com</td>\n      <td>http://dogbreedslists.com/</td>\n      <td>NaN</td>\n      <td>NaN</td>\n      <td>&lt;em&gt;Dog&lt;/em&gt; &lt;em&gt;Breeds&lt;/em&gt; | &lt;em&gt;Dog&lt;/em&gt; &lt;e...</td>\n      <td>Dog Breeds | Dog Breeds Informations | List of...</td>\n      <td>&lt;em&gt;Dog&lt;/em&gt; &lt;em&gt;Breeds&lt;/em&gt; | &lt;em&gt;Dog&lt;/em&gt; &lt;e...</td>\n      <td>Dog Breeds | Dog Breeds Informations | Picture...</td>\n      <td>{'description': 'sum of:', 'value': 2241.5752,...</td>\n      <td>&lt;!doctype html&gt;\\n&lt;meta charset=\"utf-8\"&gt;\\n&lt;titl...</td>\n      <td>&lt;!doctype html&gt;\\n&lt;meta charset=\"utf-8\"&gt;\\n&lt;titl...</td>\n      <td>1</td>\n    </tr>\n    <tr>\n      <th>3</th>\n      <td>1</td>\n      <td>dog breeds</td>\n      <td>None</td>\n      <td>2240.3790</td>\n      <td>7dcee03e-3849-54e8-8024-6ebdc74abba6</td>\n      <td>cc1511</td>\n      <td>www.dogbreedslists.com</td>\n      <td>http://www.dogbreedslists.com/</td>\n      <td>NaN</td>\n      <td>NaN</td>\n      <td>&lt;em&gt;Dog&lt;/em&gt; &lt;em&gt;Breeds&lt;/em&gt; | &lt;em&gt;Dog&lt;/em&gt; &lt;e...</td>\n      <td>Dog Breeds | Dog Breeds Informations | List of...</td>\n      <td>&lt;em&gt;Dog&lt;/em&gt; &lt;em&gt;Breeds&lt;/em&gt; | &lt;em&gt;Dog&lt;/em&gt; &lt;e...</td>\n      <td>Dog Breeds | Dog Breeds Informations | Picture...</td>\n      <td>{'description': 'sum of:', 'value': 2240.379, ...</td>\n      <td>&lt;!doctype html&gt;\\n&lt;meta charset=\"utf-8\"&gt;\\n&lt;titl...</td>\n      <td>&lt;!doctype html&gt;\\n&lt;meta charset=\"utf-8\"&gt;\\n&lt;titl...</td>\n      <td>2</td>\n    </tr>\n    <tr>\n      <th>4</th>\n      <td>1</td>\n      <td>dog breeds</td>\n      <td>None</td>\n      <td>2200.3076</td>\n      <td>88560390-fc81-5a6d-a34b-9972f2f2ce48</td>\n      <td>cc1511</td>\n      <td>www.dogbreeds.net</td>\n      <td>http://www.dogbreeds.net/mixed-breed-dogs.html</td>\n      <td>NaN</td>\n      <td>NaN</td>\n      <td>Mixed &lt;em&gt;Breed&lt;/em&gt; &lt;em&gt;Dogs&lt;/em&gt; - &lt;em&gt;Dog&lt;/...</td>\n      <td>Mixed Breed Dogs - Dog Breeds</td>\n      <td>Mixed &lt;em&gt;dogs&lt;/em&gt;, also known as designer &lt;e...</td>\n      <td>Mixed dogs, also known as designer dogs or hyb...</td>\n      <td>{'description': 'sum of:', 'value': 2200.3076,...</td>\n      <td>&lt;!doctype html&gt;\\n&lt;meta charset=\"utf-8\"&gt;\\n&lt;titl...</td>\n      <td>&lt;!doctype html&gt;\\n&lt;meta charset=\"utf-8\"&gt;\\n&lt;titl...</td>\n      <td>3</td>\n    </tr>\n    <tr>\n      <th>5</th>\n      <td>1</td>\n      <td>dog breeds</td>\n      <td>None</td>\n      <td>2197.3333</td>\n      <td>2e14dd9e-910c-5106-af33-4caaeacd61bb</td>\n      <td>cc1511</td>\n      <td>www.joy-of-cartoon-pictures.com</td>\n      <td>http://www.joy-of-cartoon-pictures.com/picture...</td>\n      <td>NaN</td>\n      <td>NaN</td>\n      <td>pictures of &lt;em&gt;dog&lt;/em&gt; &lt;em&gt;breeds&lt;/em&gt;,&lt;em&gt;d...</td>\n      <td>pictures of dog breeds,dog breed pictures,cart...</td>\n      <td>Visit 165 &lt;em&gt;dog&lt;/em&gt; &lt;em&gt;breed&lt;/em&gt; profiles...</td>\n      <td>Visit 165 dog breed profiles with illness info...</td>\n      <td>{'description': 'sum of:', 'value': 2197.3333,...</td>\n      <td>&lt;!doctype html&gt;\\n&lt;meta charset=\"utf-8\"&gt;\\n&lt;titl...</td>\n      <td>&lt;!doctype html&gt;\\n&lt;meta charset=\"utf-8\"&gt;\\n&lt;titl...</td>\n      <td>4</td>\n    </tr>\n    <tr>\n      <th>6</th>\n      <td>1</td>\n      <td>dog breeds</td>\n      <td>None</td>\n      <td>2190.0342</td>\n      <td>18171256-2d63-5304-8a3e-3fd19536bf9c</td>\n      <td>cc1511</td>\n      <td>www.dogs-are-family.com</td>\n      <td>http://www.dogs-are-family.com/extra-large-dog...</td>\n      <td>NaN</td>\n      <td>NaN</td>\n      <td>Extra Large &lt;em&gt;Dog&lt;/em&gt; &lt;em&gt;Breeds&lt;/em&gt;, Larg...</td>\n      <td>Extra Large Dog Breeds, Largest Dog Breed, Big...</td>\n      <td>So the extra large &lt;em&gt;dog&lt;/em&gt; &lt;em&gt;breeds&lt;/em...</td>\n      <td>So the extra large dog breeds, or largest dog ...</td>\n      <td>{'description': 'sum of:', 'value': 2190.0342,...</td>\n      <td>&lt;!doctype html&gt;\\n&lt;meta charset=\"utf-8\"&gt;\\n&lt;titl...</td>\n      <td>&lt;!doctype html&gt;\\n&lt;meta charset=\"utf-8\"&gt;\\n&lt;titl...</td>\n      <td>5</td>\n    </tr>\n    <tr>\n      <th>7</th>\n      <td>1</td>\n      <td>dog breeds</td>\n      <td>None</td>\n      <td>2186.2378</td>\n      <td>8406693e-d70e-553f-a97a-25f0e5851f64</td>\n      <td>cc1511</td>\n      <td>www.animalblueprintcompany.com</td>\n      <td>http://www.animalblueprintcompany.com/dog-breeds</td>\n      <td>NaN</td>\n      <td>NaN</td>\n      <td>&lt;em&gt;Dog&lt;/em&gt; &lt;em&gt;Breeds&lt;/em&gt; - All &lt;em&gt;Dog&lt;/em...</td>\n      <td>Dog Breeds - All Dog Breeds, Prints of Dog Breeds</td>\n      <td>Are Small &lt;em&gt;Dog&lt;/em&gt; &lt;em&gt;Breeds&lt;/em&gt; More Po...</td>\n      <td>Are Small Dog Breeds More Popular than Large D...</td>\n      <td>{'description': 'sum of:', 'value': 2186.2378,...</td>\n      <td>&lt;!doctype html&gt;\\n&lt;meta charset=\"utf-8\"&gt;\\n&lt;titl...</td>\n      <td>&lt;!doctype html&gt;\\n&lt;meta charset=\"utf-8\"&gt;\\n&lt;titl...</td>\n      <td>6</td>\n    </tr>\n    <tr>\n      <th>8</th>\n      <td>1</td>\n      <td>dog breeds</td>\n      <td>None</td>\n      <td>2175.2437</td>\n      <td>2c707102-3e5e-58e1-8723-f9dcfcf16611</td>\n      <td>cc1511</td>\n      <td>www.wellbredpets.com</td>\n      <td>http://www.wellbredpets.com/dog-breeds-breed-l...</td>\n      <td>NaN</td>\n      <td>NaN</td>\n      <td>&lt;em&gt;Dog&lt;/em&gt; &lt;em&gt;Breed&lt;/em&gt; directory of &lt;em&gt;d...</td>\n      <td>Dog Breed directory of dog breeds</td>\n      <td>for &lt;em&gt;Dog&lt;/em&gt; &lt;em&gt;Breeds&lt;/em&gt; beginning wit...</td>\n      <td>for Dog Breeds beginning with 'E' Dogs breed i...</td>\n      <td>{'description': 'sum of:', 'value': 2175.2437,...</td>\n      <td>&lt;!doctype html&gt;\\n&lt;meta charset=\"utf-8\"&gt;\\n&lt;titl...</td>\n      <td>&lt;!doctype html&gt;\\n&lt;meta charset=\"utf-8\"&gt;\\n&lt;titl...</td>\n      <td>7</td>\n    </tr>\n    <tr>\n      <th>9</th>\n      <td>1</td>\n      <td>dog breeds</td>\n      <td>clueweb12-0715wb-35-17002</td>\n      <td>2166.4966</td>\n      <td>7b780514-5755-5f66-a9d8-ecdf1083e423</td>\n      <td>cw12</td>\n      <td>www.yourpurebredpuppy.com</td>\n      <td>http://www.yourpurebredpuppy.com/dogbreeds/ind...</td>\n      <td>1.373495e-09</td>\n      <td>94.0</td>\n      <td>&lt;em&gt;Dog&lt;/em&gt; &lt;em&gt;Breed&lt;/em&gt; Reviews – Giant &lt;e...</td>\n      <td>Dog Breed Reviews – Giant Dog Breeds</td>\n      <td>o 11 Things You Must Do Right To Keep Your &lt;em...</td>\n      <td>o 11 Things You Must Do Right To Keep Your Dog...</td>\n      <td>{'description': 'sum of:', 'value': 2166.4968,...</td>\n      <td>&lt;!doctype html&gt;\\n&lt;meta charset=\"utf-8\"&gt;\\n&lt;titl...</td>\n      <td>&lt;!doctype html&gt;\\n&lt;meta charset=\"utf-8\"&gt;\\n&lt;titl...</td>\n      <td>8</td>\n    </tr>\n    <tr>\n      <th>1</th>\n      <td>1</td>\n      <td>dog breeds</td>\n      <td>clueweb09-en0113-70-25489</td>\n      <td>2166.1777</td>\n      <td>29b89e81-709e-58a7-9d51-d4ab9ebfe4c6</td>\n      <td>cw09</td>\n      <td>dog-breed-facts.com</td>\n      <td>http://dog-breed-facts.com/articles/Breed-clas...</td>\n      <td>1.500000e-01</td>\n      <td>75.0</td>\n      <td>&lt;em&gt;dog&lt;/em&gt; &lt;em&gt;breed&lt;/em&gt; classification|&lt;em...</td>\n      <td>dog breed classification|dog breed selector|sm...</td>\n      <td>Sighthounds have traits in common as do Terrie...</td>\n      <td>Sighthounds have traits in common as do Terrie...</td>\n      <td>{'description': 'sum of:', 'value': 2166.1777,...</td>\n      <td>&lt;!doctype html&gt;\\n&lt;meta charset=\"utf-8\"&gt;\\n&lt;titl...</td>\n      <td>&lt;!doctype html&gt;\\n&lt;meta charset=\"utf-8\"&gt;\\n&lt;titl...</td>\n      <td>9</td>\n    </tr>\n  </tbody>\n</table>\n</div>"
     },
     "execution_count": 28,
     "metadata": {},
     "output_type": "execute_result"
    }
   ],
   "source": [
    "from chatnoir_pyterrier.retrieve import ChatNoirRetrieve, Feature\n",
    "\n",
    "chatnoir_all = ~ChatNoirRetrieve(api_key, features=Feature.ALL, verbose=True)\n",
    "chatnoir_all.search(\"dog breeds\")"
   ],
   "metadata": {
    "collapsed": false,
    "pycharm": {
     "name": "#%%\n"
    }
   }
  }
 ],
 "metadata": {
  "kernelspec": {
   "display_name": "Python 3",
   "language": "python",
   "name": "python3"
  },
  "language_info": {
   "codemirror_mode": {
    "name": "ipython",
    "version": 2
   },
   "file_extension": ".py",
   "mimetype": "text/x-python",
   "name": "python",
   "nbconvert_exporter": "python",
   "pygments_lexer": "ipython2",
   "version": "2.7.6"
  }
 },
 "nbformat": 4,
 "nbformat_minor": 0
}